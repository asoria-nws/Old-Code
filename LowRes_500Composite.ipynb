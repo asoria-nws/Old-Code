{
 "cells": [
  {
   "cell_type": "code",
   "execution_count": 1,
   "metadata": {},
   "outputs": [],
   "source": [
    "import pandas as pd\n",
    "import glob\n",
    "import cartopy.crs as ccrs\n",
    "import xarray as xr\n",
    "import numpy as np\n",
    "import matplotlib.pyplot as plt\n",
    "import pandas as pd\n",
    "import datetime\n",
    "import scipy.stats as stats"
   ]
  },
  {
   "cell_type": "code",
   "execution_count": 2,
   "metadata": {},
   "outputs": [
    {
     "data": {
      "text/html": [
       "<div><svg style=\"position: absolute; width: 0; height: 0; overflow: hidden\">\n",
       "<defs>\n",
       "<symbol id=\"icon-database\" viewBox=\"0 0 32 32\">\n",
       "<path d=\"M16 0c-8.837 0-16 2.239-16 5v4c0 2.761 7.163 5 16 5s16-2.239 16-5v-4c0-2.761-7.163-5-16-5z\"></path>\n",
       "<path d=\"M16 17c-8.837 0-16-2.239-16-5v6c0 2.761 7.163 5 16 5s16-2.239 16-5v-6c0 2.761-7.163 5-16 5z\"></path>\n",
       "<path d=\"M16 26c-8.837 0-16-2.239-16-5v6c0 2.761 7.163 5 16 5s16-2.239 16-5v-6c0 2.761-7.163 5-16 5z\"></path>\n",
       "</symbol>\n",
       "<symbol id=\"icon-file-text2\" viewBox=\"0 0 32 32\">\n",
       "<path d=\"M28.681 7.159c-0.694-0.947-1.662-2.053-2.724-3.116s-2.169-2.030-3.116-2.724c-1.612-1.182-2.393-1.319-2.841-1.319h-15.5c-1.378 0-2.5 1.121-2.5 2.5v27c0 1.378 1.122 2.5 2.5 2.5h23c1.378 0 2.5-1.122 2.5-2.5v-19.5c0-0.448-0.137-1.23-1.319-2.841zM24.543 5.457c0.959 0.959 1.712 1.825 2.268 2.543h-4.811v-4.811c0.718 0.556 1.584 1.309 2.543 2.268zM28 29.5c0 0.271-0.229 0.5-0.5 0.5h-23c-0.271 0-0.5-0.229-0.5-0.5v-27c0-0.271 0.229-0.5 0.5-0.5 0 0 15.499-0 15.5 0v7c0 0.552 0.448 1 1 1h7v19.5z\"></path>\n",
       "<path d=\"M23 26h-14c-0.552 0-1-0.448-1-1s0.448-1 1-1h14c0.552 0 1 0.448 1 1s-0.448 1-1 1z\"></path>\n",
       "<path d=\"M23 22h-14c-0.552 0-1-0.448-1-1s0.448-1 1-1h14c0.552 0 1 0.448 1 1s-0.448 1-1 1z\"></path>\n",
       "<path d=\"M23 18h-14c-0.552 0-1-0.448-1-1s0.448-1 1-1h14c0.552 0 1 0.448 1 1s-0.448 1-1 1z\"></path>\n",
       "</symbol>\n",
       "</defs>\n",
       "</svg>\n",
       "<style>/* CSS stylesheet for displaying xarray objects in jupyterlab.\n",
       " *\n",
       " */\n",
       "\n",
       ":root {\n",
       "  --xr-font-color0: var(--jp-content-font-color0, rgba(0, 0, 0, 1));\n",
       "  --xr-font-color2: var(--jp-content-font-color2, rgba(0, 0, 0, 0.54));\n",
       "  --xr-font-color3: var(--jp-content-font-color3, rgba(0, 0, 0, 0.38));\n",
       "  --xr-border-color: var(--jp-border-color2, #e0e0e0);\n",
       "  --xr-disabled-color: var(--jp-layout-color3, #bdbdbd);\n",
       "  --xr-background-color: var(--jp-layout-color0, white);\n",
       "  --xr-background-color-row-even: var(--jp-layout-color1, white);\n",
       "  --xr-background-color-row-odd: var(--jp-layout-color2, #eeeeee);\n",
       "}\n",
       "\n",
       "html[theme=dark],\n",
       "body.vscode-dark {\n",
       "  --xr-font-color0: rgba(255, 255, 255, 1);\n",
       "  --xr-font-color2: rgba(255, 255, 255, 0.54);\n",
       "  --xr-font-color3: rgba(255, 255, 255, 0.38);\n",
       "  --xr-border-color: #1F1F1F;\n",
       "  --xr-disabled-color: #515151;\n",
       "  --xr-background-color: #111111;\n",
       "  --xr-background-color-row-even: #111111;\n",
       "  --xr-background-color-row-odd: #313131;\n",
       "}\n",
       "\n",
       ".xr-wrap {\n",
       "  display: block;\n",
       "  min-width: 300px;\n",
       "  max-width: 700px;\n",
       "}\n",
       "\n",
       ".xr-text-repr-fallback {\n",
       "  /* fallback to plain text repr when CSS is not injected (untrusted notebook) */\n",
       "  display: none;\n",
       "}\n",
       "\n",
       ".xr-header {\n",
       "  padding-top: 6px;\n",
       "  padding-bottom: 6px;\n",
       "  margin-bottom: 4px;\n",
       "  border-bottom: solid 1px var(--xr-border-color);\n",
       "}\n",
       "\n",
       ".xr-header > div,\n",
       ".xr-header > ul {\n",
       "  display: inline;\n",
       "  margin-top: 0;\n",
       "  margin-bottom: 0;\n",
       "}\n",
       "\n",
       ".xr-obj-type,\n",
       ".xr-array-name {\n",
       "  margin-left: 2px;\n",
       "  margin-right: 10px;\n",
       "}\n",
       "\n",
       ".xr-obj-type {\n",
       "  color: var(--xr-font-color2);\n",
       "}\n",
       "\n",
       ".xr-sections {\n",
       "  padding-left: 0 !important;\n",
       "  display: grid;\n",
       "  grid-template-columns: 150px auto auto 1fr 20px 20px;\n",
       "}\n",
       "\n",
       ".xr-section-item {\n",
       "  display: contents;\n",
       "}\n",
       "\n",
       ".xr-section-item input {\n",
       "  display: none;\n",
       "}\n",
       "\n",
       ".xr-section-item input + label {\n",
       "  color: var(--xr-disabled-color);\n",
       "}\n",
       "\n",
       ".xr-section-item input:enabled + label {\n",
       "  cursor: pointer;\n",
       "  color: var(--xr-font-color2);\n",
       "}\n",
       "\n",
       ".xr-section-item input:enabled + label:hover {\n",
       "  color: var(--xr-font-color0);\n",
       "}\n",
       "\n",
       ".xr-section-summary {\n",
       "  grid-column: 1;\n",
       "  color: var(--xr-font-color2);\n",
       "  font-weight: 500;\n",
       "}\n",
       "\n",
       ".xr-section-summary > span {\n",
       "  display: inline-block;\n",
       "  padding-left: 0.5em;\n",
       "}\n",
       "\n",
       ".xr-section-summary-in:disabled + label {\n",
       "  color: var(--xr-font-color2);\n",
       "}\n",
       "\n",
       ".xr-section-summary-in + label:before {\n",
       "  display: inline-block;\n",
       "  content: '►';\n",
       "  font-size: 11px;\n",
       "  width: 15px;\n",
       "  text-align: center;\n",
       "}\n",
       "\n",
       ".xr-section-summary-in:disabled + label:before {\n",
       "  color: var(--xr-disabled-color);\n",
       "}\n",
       "\n",
       ".xr-section-summary-in:checked + label:before {\n",
       "  content: '▼';\n",
       "}\n",
       "\n",
       ".xr-section-summary-in:checked + label > span {\n",
       "  display: none;\n",
       "}\n",
       "\n",
       ".xr-section-summary,\n",
       ".xr-section-inline-details {\n",
       "  padding-top: 4px;\n",
       "  padding-bottom: 4px;\n",
       "}\n",
       "\n",
       ".xr-section-inline-details {\n",
       "  grid-column: 2 / -1;\n",
       "}\n",
       "\n",
       ".xr-section-details {\n",
       "  display: none;\n",
       "  grid-column: 1 / -1;\n",
       "  margin-bottom: 5px;\n",
       "}\n",
       "\n",
       ".xr-section-summary-in:checked ~ .xr-section-details {\n",
       "  display: contents;\n",
       "}\n",
       "\n",
       ".xr-array-wrap {\n",
       "  grid-column: 1 / -1;\n",
       "  display: grid;\n",
       "  grid-template-columns: 20px auto;\n",
       "}\n",
       "\n",
       ".xr-array-wrap > label {\n",
       "  grid-column: 1;\n",
       "  vertical-align: top;\n",
       "}\n",
       "\n",
       ".xr-preview {\n",
       "  color: var(--xr-font-color3);\n",
       "}\n",
       "\n",
       ".xr-array-preview,\n",
       ".xr-array-data {\n",
       "  padding: 0 5px !important;\n",
       "  grid-column: 2;\n",
       "}\n",
       "\n",
       ".xr-array-data,\n",
       ".xr-array-in:checked ~ .xr-array-preview {\n",
       "  display: none;\n",
       "}\n",
       "\n",
       ".xr-array-in:checked ~ .xr-array-data,\n",
       ".xr-array-preview {\n",
       "  display: inline-block;\n",
       "}\n",
       "\n",
       ".xr-dim-list {\n",
       "  display: inline-block !important;\n",
       "  list-style: none;\n",
       "  padding: 0 !important;\n",
       "  margin: 0;\n",
       "}\n",
       "\n",
       ".xr-dim-list li {\n",
       "  display: inline-block;\n",
       "  padding: 0;\n",
       "  margin: 0;\n",
       "}\n",
       "\n",
       ".xr-dim-list:before {\n",
       "  content: '(';\n",
       "}\n",
       "\n",
       ".xr-dim-list:after {\n",
       "  content: ')';\n",
       "}\n",
       "\n",
       ".xr-dim-list li:not(:last-child):after {\n",
       "  content: ',';\n",
       "  padding-right: 5px;\n",
       "}\n",
       "\n",
       ".xr-has-index {\n",
       "  font-weight: bold;\n",
       "}\n",
       "\n",
       ".xr-var-list,\n",
       ".xr-var-item {\n",
       "  display: contents;\n",
       "}\n",
       "\n",
       ".xr-var-item > div,\n",
       ".xr-var-item label,\n",
       ".xr-var-item > .xr-var-name span {\n",
       "  background-color: var(--xr-background-color-row-even);\n",
       "  margin-bottom: 0;\n",
       "}\n",
       "\n",
       ".xr-var-item > .xr-var-name:hover span {\n",
       "  padding-right: 5px;\n",
       "}\n",
       "\n",
       ".xr-var-list > li:nth-child(odd) > div,\n",
       ".xr-var-list > li:nth-child(odd) > label,\n",
       ".xr-var-list > li:nth-child(odd) > .xr-var-name span {\n",
       "  background-color: var(--xr-background-color-row-odd);\n",
       "}\n",
       "\n",
       ".xr-var-name {\n",
       "  grid-column: 1;\n",
       "}\n",
       "\n",
       ".xr-var-dims {\n",
       "  grid-column: 2;\n",
       "}\n",
       "\n",
       ".xr-var-dtype {\n",
       "  grid-column: 3;\n",
       "  text-align: right;\n",
       "  color: var(--xr-font-color2);\n",
       "}\n",
       "\n",
       ".xr-var-preview {\n",
       "  grid-column: 4;\n",
       "}\n",
       "\n",
       ".xr-var-name,\n",
       ".xr-var-dims,\n",
       ".xr-var-dtype,\n",
       ".xr-preview,\n",
       ".xr-attrs dt {\n",
       "  white-space: nowrap;\n",
       "  overflow: hidden;\n",
       "  text-overflow: ellipsis;\n",
       "  padding-right: 10px;\n",
       "}\n",
       "\n",
       ".xr-var-name:hover,\n",
       ".xr-var-dims:hover,\n",
       ".xr-var-dtype:hover,\n",
       ".xr-attrs dt:hover {\n",
       "  overflow: visible;\n",
       "  width: auto;\n",
       "  z-index: 1;\n",
       "}\n",
       "\n",
       ".xr-var-attrs,\n",
       ".xr-var-data {\n",
       "  display: none;\n",
       "  background-color: var(--xr-background-color) !important;\n",
       "  padding-bottom: 5px !important;\n",
       "}\n",
       "\n",
       ".xr-var-attrs-in:checked ~ .xr-var-attrs,\n",
       ".xr-var-data-in:checked ~ .xr-var-data {\n",
       "  display: block;\n",
       "}\n",
       "\n",
       ".xr-var-data > table {\n",
       "  float: right;\n",
       "}\n",
       "\n",
       ".xr-var-name span,\n",
       ".xr-var-data,\n",
       ".xr-attrs {\n",
       "  padding-left: 25px !important;\n",
       "}\n",
       "\n",
       ".xr-attrs,\n",
       ".xr-var-attrs,\n",
       ".xr-var-data {\n",
       "  grid-column: 1 / -1;\n",
       "}\n",
       "\n",
       "dl.xr-attrs {\n",
       "  padding: 0;\n",
       "  margin: 0;\n",
       "  display: grid;\n",
       "  grid-template-columns: 125px auto;\n",
       "}\n",
       "\n",
       ".xr-attrs dt, dd {\n",
       "  padding: 0;\n",
       "  margin: 0;\n",
       "  float: left;\n",
       "  padding-right: 10px;\n",
       "  width: auto;\n",
       "}\n",
       "\n",
       ".xr-attrs dt {\n",
       "  font-weight: normal;\n",
       "  grid-column: 1;\n",
       "}\n",
       "\n",
       ".xr-attrs dt:hover span {\n",
       "  display: inline-block;\n",
       "  background: var(--xr-background-color);\n",
       "  padding-right: 10px;\n",
       "}\n",
       "\n",
       ".xr-attrs dd {\n",
       "  grid-column: 2;\n",
       "  white-space: pre-wrap;\n",
       "  word-break: break-all;\n",
       "}\n",
       "\n",
       ".xr-icon-database,\n",
       ".xr-icon-file-text2 {\n",
       "  display: inline-block;\n",
       "  vertical-align: middle;\n",
       "  width: 1em;\n",
       "  height: 1.5em !important;\n",
       "  stroke-width: 0;\n",
       "  stroke: currentColor;\n",
       "  fill: currentColor;\n",
       "}\n",
       "</style><pre class='xr-text-repr-fallback'>&lt;xarray.Dataset&gt;\n",
       "Dimensions:   (lat: 91, lon: 360, time: 14975)\n",
       "Coordinates:\n",
       "  * time      (time) float64 1.979e+06 1.979e+06 ... 2.019e+06 2.019e+06\n",
       "  * lat       (lat) float32 0.0 1.0 2.0 3.0 4.0 5.0 ... 86.0 87.0 88.0 89.0 90.0\n",
       "  * lon       (lon) float32 0.0 1.0 2.0 3.0 4.0 ... 356.0 357.0 358.0 359.0\n",
       "Data variables:\n",
       "    GEOdaily  (time, lat, lon) float32 ...</pre><div class='xr-wrap' hidden><div class='xr-header'><div class='xr-obj-type'>xarray.Dataset</div></div><ul class='xr-sections'><li class='xr-section-item'><input id='section-561f8578-c4ef-42d2-8861-27c08c28d09c' class='xr-section-summary-in' type='checkbox' disabled ><label for='section-561f8578-c4ef-42d2-8861-27c08c28d09c' class='xr-section-summary'  title='Expand/collapse section'>Dimensions:</label><div class='xr-section-inline-details'><ul class='xr-dim-list'><li><span class='xr-has-index'>lat</span>: 91</li><li><span class='xr-has-index'>lon</span>: 360</li><li><span class='xr-has-index'>time</span>: 14975</li></ul></div><div class='xr-section-details'></div></li><li class='xr-section-item'><input id='section-c3d9dd35-241a-40ef-aaa8-d0681a0b7837' class='xr-section-summary-in' type='checkbox'  checked><label for='section-c3d9dd35-241a-40ef-aaa8-d0681a0b7837' class='xr-section-summary' >Coordinates: <span>(3)</span></label><div class='xr-section-inline-details'></div><div class='xr-section-details'><ul class='xr-var-list'><li class='xr-var-item'><div class='xr-var-name'><span class='xr-has-index'>time</span></div><div class='xr-var-dims'>(time)</div><div class='xr-var-dtype'>float64</div><div class='xr-var-preview xr-preview'>1.979e+06 1.979e+06 ... 2.019e+06</div><input id='attrs-36ffb656-e106-4799-ba38-8370cf463629' class='xr-var-attrs-in' type='checkbox' disabled><label for='attrs-36ffb656-e106-4799-ba38-8370cf463629' title='Show/Hide attributes'><svg class='icon xr-icon-file-text2'><use xlink:href='#icon-file-text2'></use></svg></label><input id='data-e5388560-f52e-4380-b56b-9111ecd369de' class='xr-var-data-in' type='checkbox'><label for='data-e5388560-f52e-4380-b56b-9111ecd369de' title='Show/Hide data repr'><svg class='icon xr-icon-database'><use xlink:href='#icon-database'></use></svg></label><div class='xr-var-attrs'><dl class='xr-attrs'></dl></div><div class='xr-var-data'><pre>array([1979001., 1979002., 1979003., ..., 2019363., 2019364., 2019365.])</pre></div></li><li class='xr-var-item'><div class='xr-var-name'><span class='xr-has-index'>lat</span></div><div class='xr-var-dims'>(lat)</div><div class='xr-var-dtype'>float32</div><div class='xr-var-preview xr-preview'>0.0 1.0 2.0 3.0 ... 88.0 89.0 90.0</div><input id='attrs-5abf08e6-91c0-41a1-89f0-271abefea5ea' class='xr-var-attrs-in' type='checkbox' ><label for='attrs-5abf08e6-91c0-41a1-89f0-271abefea5ea' title='Show/Hide attributes'><svg class='icon xr-icon-file-text2'><use xlink:href='#icon-file-text2'></use></svg></label><input id='data-649f3194-d926-4323-9518-a0d3c49ec036' class='xr-var-data-in' type='checkbox'><label for='data-649f3194-d926-4323-9518-a0d3c49ec036' title='Show/Hide data repr'><svg class='icon xr-icon-database'><use xlink:href='#icon-database'></use></svg></label><div class='xr-var-attrs'><dl class='xr-attrs'><dt><span>units :</span></dt><dd>degrees_north</dd></dl></div><div class='xr-var-data'><pre>array([ 0.,  1.,  2.,  3.,  4.,  5.,  6.,  7.,  8.,  9., 10., 11., 12., 13.,\n",
       "       14., 15., 16., 17., 18., 19., 20., 21., 22., 23., 24., 25., 26., 27.,\n",
       "       28., 29., 30., 31., 32., 33., 34., 35., 36., 37., 38., 39., 40., 41.,\n",
       "       42., 43., 44., 45., 46., 47., 48., 49., 50., 51., 52., 53., 54., 55.,\n",
       "       56., 57., 58., 59., 60., 61., 62., 63., 64., 65., 66., 67., 68., 69.,\n",
       "       70., 71., 72., 73., 74., 75., 76., 77., 78., 79., 80., 81., 82., 83.,\n",
       "       84., 85., 86., 87., 88., 89., 90.], dtype=float32)</pre></div></li><li class='xr-var-item'><div class='xr-var-name'><span class='xr-has-index'>lon</span></div><div class='xr-var-dims'>(lon)</div><div class='xr-var-dtype'>float32</div><div class='xr-var-preview xr-preview'>0.0 1.0 2.0 ... 357.0 358.0 359.0</div><input id='attrs-134be1a5-02f9-4e77-b4d3-45ce441b2163' class='xr-var-attrs-in' type='checkbox' ><label for='attrs-134be1a5-02f9-4e77-b4d3-45ce441b2163' title='Show/Hide attributes'><svg class='icon xr-icon-file-text2'><use xlink:href='#icon-file-text2'></use></svg></label><input id='data-dbbe524d-89ec-4244-b146-ca8c01ebe4cc' class='xr-var-data-in' type='checkbox'><label for='data-dbbe524d-89ec-4244-b146-ca8c01ebe4cc' title='Show/Hide data repr'><svg class='icon xr-icon-database'><use xlink:href='#icon-database'></use></svg></label><div class='xr-var-attrs'><dl class='xr-attrs'><dt><span>units :</span></dt><dd>degrees_east</dd></dl></div><div class='xr-var-data'><pre>array([  0.,   1.,   2., ..., 357., 358., 359.], dtype=float32)</pre></div></li></ul></div></li><li class='xr-section-item'><input id='section-182b2150-db71-42e1-9dad-2275bc47ccfd' class='xr-section-summary-in' type='checkbox'  checked><label for='section-182b2150-db71-42e1-9dad-2275bc47ccfd' class='xr-section-summary' >Data variables: <span>(1)</span></label><div class='xr-section-inline-details'></div><div class='xr-section-details'><ul class='xr-var-list'><li class='xr-var-item'><div class='xr-var-name'><span>GEOdaily</span></div><div class='xr-var-dims'>(time, lat, lon)</div><div class='xr-var-dtype'>float32</div><div class='xr-var-preview xr-preview'>...</div><input id='attrs-83bbcec4-a4d1-4950-ab1a-39ee0e8d5914' class='xr-var-attrs-in' type='checkbox' disabled><label for='attrs-83bbcec4-a4d1-4950-ab1a-39ee0e8d5914' title='Show/Hide attributes'><svg class='icon xr-icon-file-text2'><use xlink:href='#icon-file-text2'></use></svg></label><input id='data-c5581257-05ce-4784-9cdb-7b16b733a9ac' class='xr-var-data-in' type='checkbox'><label for='data-c5581257-05ce-4784-9cdb-7b16b733a9ac' title='Show/Hide data repr'><svg class='icon xr-icon-database'><use xlink:href='#icon-database'></use></svg></label><div class='xr-var-attrs'><dl class='xr-attrs'></dl></div><div class='xr-var-data'><pre>[490581000 values with dtype=float32]</pre></div></li></ul></div></li><li class='xr-section-item'><input id='section-e307cf43-fb48-4690-a0f2-47f48a7520c3' class='xr-section-summary-in' type='checkbox' disabled ><label for='section-e307cf43-fb48-4690-a0f2-47f48a7520c3' class='xr-section-summary'  title='Expand/collapse section'>Attributes: <span>(0)</span></label><div class='xr-section-inline-details'></div><div class='xr-section-details'><dl class='xr-attrs'></dl></div></li></ul></div></div>"
      ],
      "text/plain": [
       "<xarray.Dataset>\n",
       "Dimensions:   (lat: 91, lon: 360, time: 14975)\n",
       "Coordinates:\n",
       "  * time      (time) float64 1.979e+06 1.979e+06 ... 2.019e+06 2.019e+06\n",
       "  * lat       (lat) float32 0.0 1.0 2.0 3.0 4.0 5.0 ... 86.0 87.0 88.0 89.0 90.0\n",
       "  * lon       (lon) float32 0.0 1.0 2.0 3.0 4.0 ... 356.0 357.0 358.0 359.0\n",
       "Data variables:\n",
       "    GEOdaily  (time, lat, lon) float32 ..."
      ]
     },
     "execution_count": 2,
     "metadata": {},
     "output_type": "execute_result"
    }
   ],
   "source": [
    "path = '/data/ERA5/daily/ERA5.500mbGEOdaily.1979to2019.NH.1deg.nc'\n",
    "ds = xr.open_dataset(path)\n",
    "ds"
   ]
  },
  {
   "cell_type": "code",
   "execution_count": 3,
   "metadata": {},
   "outputs": [
    {
     "data": {
      "text/html": [
       "<div><svg style=\"position: absolute; width: 0; height: 0; overflow: hidden\">\n",
       "<defs>\n",
       "<symbol id=\"icon-database\" viewBox=\"0 0 32 32\">\n",
       "<path d=\"M16 0c-8.837 0-16 2.239-16 5v4c0 2.761 7.163 5 16 5s16-2.239 16-5v-4c0-2.761-7.163-5-16-5z\"></path>\n",
       "<path d=\"M16 17c-8.837 0-16-2.239-16-5v6c0 2.761 7.163 5 16 5s16-2.239 16-5v-6c0 2.761-7.163 5-16 5z\"></path>\n",
       "<path d=\"M16 26c-8.837 0-16-2.239-16-5v6c0 2.761 7.163 5 16 5s16-2.239 16-5v-6c0 2.761-7.163 5-16 5z\"></path>\n",
       "</symbol>\n",
       "<symbol id=\"icon-file-text2\" viewBox=\"0 0 32 32\">\n",
       "<path d=\"M28.681 7.159c-0.694-0.947-1.662-2.053-2.724-3.116s-2.169-2.030-3.116-2.724c-1.612-1.182-2.393-1.319-2.841-1.319h-15.5c-1.378 0-2.5 1.121-2.5 2.5v27c0 1.378 1.122 2.5 2.5 2.5h23c1.378 0 2.5-1.122 2.5-2.5v-19.5c0-0.448-0.137-1.23-1.319-2.841zM24.543 5.457c0.959 0.959 1.712 1.825 2.268 2.543h-4.811v-4.811c0.718 0.556 1.584 1.309 2.543 2.268zM28 29.5c0 0.271-0.229 0.5-0.5 0.5h-23c-0.271 0-0.5-0.229-0.5-0.5v-27c0-0.271 0.229-0.5 0.5-0.5 0 0 15.499-0 15.5 0v7c0 0.552 0.448 1 1 1h7v19.5z\"></path>\n",
       "<path d=\"M23 26h-14c-0.552 0-1-0.448-1-1s0.448-1 1-1h14c0.552 0 1 0.448 1 1s-0.448 1-1 1z\"></path>\n",
       "<path d=\"M23 22h-14c-0.552 0-1-0.448-1-1s0.448-1 1-1h14c0.552 0 1 0.448 1 1s-0.448 1-1 1z\"></path>\n",
       "<path d=\"M23 18h-14c-0.552 0-1-0.448-1-1s0.448-1 1-1h14c0.552 0 1 0.448 1 1s-0.448 1-1 1z\"></path>\n",
       "</symbol>\n",
       "</defs>\n",
       "</svg>\n",
       "<style>/* CSS stylesheet for displaying xarray objects in jupyterlab.\n",
       " *\n",
       " */\n",
       "\n",
       ":root {\n",
       "  --xr-font-color0: var(--jp-content-font-color0, rgba(0, 0, 0, 1));\n",
       "  --xr-font-color2: var(--jp-content-font-color2, rgba(0, 0, 0, 0.54));\n",
       "  --xr-font-color3: var(--jp-content-font-color3, rgba(0, 0, 0, 0.38));\n",
       "  --xr-border-color: var(--jp-border-color2, #e0e0e0);\n",
       "  --xr-disabled-color: var(--jp-layout-color3, #bdbdbd);\n",
       "  --xr-background-color: var(--jp-layout-color0, white);\n",
       "  --xr-background-color-row-even: var(--jp-layout-color1, white);\n",
       "  --xr-background-color-row-odd: var(--jp-layout-color2, #eeeeee);\n",
       "}\n",
       "\n",
       "html[theme=dark],\n",
       "body.vscode-dark {\n",
       "  --xr-font-color0: rgba(255, 255, 255, 1);\n",
       "  --xr-font-color2: rgba(255, 255, 255, 0.54);\n",
       "  --xr-font-color3: rgba(255, 255, 255, 0.38);\n",
       "  --xr-border-color: #1F1F1F;\n",
       "  --xr-disabled-color: #515151;\n",
       "  --xr-background-color: #111111;\n",
       "  --xr-background-color-row-even: #111111;\n",
       "  --xr-background-color-row-odd: #313131;\n",
       "}\n",
       "\n",
       ".xr-wrap {\n",
       "  display: block;\n",
       "  min-width: 300px;\n",
       "  max-width: 700px;\n",
       "}\n",
       "\n",
       ".xr-text-repr-fallback {\n",
       "  /* fallback to plain text repr when CSS is not injected (untrusted notebook) */\n",
       "  display: none;\n",
       "}\n",
       "\n",
       ".xr-header {\n",
       "  padding-top: 6px;\n",
       "  padding-bottom: 6px;\n",
       "  margin-bottom: 4px;\n",
       "  border-bottom: solid 1px var(--xr-border-color);\n",
       "}\n",
       "\n",
       ".xr-header > div,\n",
       ".xr-header > ul {\n",
       "  display: inline;\n",
       "  margin-top: 0;\n",
       "  margin-bottom: 0;\n",
       "}\n",
       "\n",
       ".xr-obj-type,\n",
       ".xr-array-name {\n",
       "  margin-left: 2px;\n",
       "  margin-right: 10px;\n",
       "}\n",
       "\n",
       ".xr-obj-type {\n",
       "  color: var(--xr-font-color2);\n",
       "}\n",
       "\n",
       ".xr-sections {\n",
       "  padding-left: 0 !important;\n",
       "  display: grid;\n",
       "  grid-template-columns: 150px auto auto 1fr 20px 20px;\n",
       "}\n",
       "\n",
       ".xr-section-item {\n",
       "  display: contents;\n",
       "}\n",
       "\n",
       ".xr-section-item input {\n",
       "  display: none;\n",
       "}\n",
       "\n",
       ".xr-section-item input + label {\n",
       "  color: var(--xr-disabled-color);\n",
       "}\n",
       "\n",
       ".xr-section-item input:enabled + label {\n",
       "  cursor: pointer;\n",
       "  color: var(--xr-font-color2);\n",
       "}\n",
       "\n",
       ".xr-section-item input:enabled + label:hover {\n",
       "  color: var(--xr-font-color0);\n",
       "}\n",
       "\n",
       ".xr-section-summary {\n",
       "  grid-column: 1;\n",
       "  color: var(--xr-font-color2);\n",
       "  font-weight: 500;\n",
       "}\n",
       "\n",
       ".xr-section-summary > span {\n",
       "  display: inline-block;\n",
       "  padding-left: 0.5em;\n",
       "}\n",
       "\n",
       ".xr-section-summary-in:disabled + label {\n",
       "  color: var(--xr-font-color2);\n",
       "}\n",
       "\n",
       ".xr-section-summary-in + label:before {\n",
       "  display: inline-block;\n",
       "  content: '►';\n",
       "  font-size: 11px;\n",
       "  width: 15px;\n",
       "  text-align: center;\n",
       "}\n",
       "\n",
       ".xr-section-summary-in:disabled + label:before {\n",
       "  color: var(--xr-disabled-color);\n",
       "}\n",
       "\n",
       ".xr-section-summary-in:checked + label:before {\n",
       "  content: '▼';\n",
       "}\n",
       "\n",
       ".xr-section-summary-in:checked + label > span {\n",
       "  display: none;\n",
       "}\n",
       "\n",
       ".xr-section-summary,\n",
       ".xr-section-inline-details {\n",
       "  padding-top: 4px;\n",
       "  padding-bottom: 4px;\n",
       "}\n",
       "\n",
       ".xr-section-inline-details {\n",
       "  grid-column: 2 / -1;\n",
       "}\n",
       "\n",
       ".xr-section-details {\n",
       "  display: none;\n",
       "  grid-column: 1 / -1;\n",
       "  margin-bottom: 5px;\n",
       "}\n",
       "\n",
       ".xr-section-summary-in:checked ~ .xr-section-details {\n",
       "  display: contents;\n",
       "}\n",
       "\n",
       ".xr-array-wrap {\n",
       "  grid-column: 1 / -1;\n",
       "  display: grid;\n",
       "  grid-template-columns: 20px auto;\n",
       "}\n",
       "\n",
       ".xr-array-wrap > label {\n",
       "  grid-column: 1;\n",
       "  vertical-align: top;\n",
       "}\n",
       "\n",
       ".xr-preview {\n",
       "  color: var(--xr-font-color3);\n",
       "}\n",
       "\n",
       ".xr-array-preview,\n",
       ".xr-array-data {\n",
       "  padding: 0 5px !important;\n",
       "  grid-column: 2;\n",
       "}\n",
       "\n",
       ".xr-array-data,\n",
       ".xr-array-in:checked ~ .xr-array-preview {\n",
       "  display: none;\n",
       "}\n",
       "\n",
       ".xr-array-in:checked ~ .xr-array-data,\n",
       ".xr-array-preview {\n",
       "  display: inline-block;\n",
       "}\n",
       "\n",
       ".xr-dim-list {\n",
       "  display: inline-block !important;\n",
       "  list-style: none;\n",
       "  padding: 0 !important;\n",
       "  margin: 0;\n",
       "}\n",
       "\n",
       ".xr-dim-list li {\n",
       "  display: inline-block;\n",
       "  padding: 0;\n",
       "  margin: 0;\n",
       "}\n",
       "\n",
       ".xr-dim-list:before {\n",
       "  content: '(';\n",
       "}\n",
       "\n",
       ".xr-dim-list:after {\n",
       "  content: ')';\n",
       "}\n",
       "\n",
       ".xr-dim-list li:not(:last-child):after {\n",
       "  content: ',';\n",
       "  padding-right: 5px;\n",
       "}\n",
       "\n",
       ".xr-has-index {\n",
       "  font-weight: bold;\n",
       "}\n",
       "\n",
       ".xr-var-list,\n",
       ".xr-var-item {\n",
       "  display: contents;\n",
       "}\n",
       "\n",
       ".xr-var-item > div,\n",
       ".xr-var-item label,\n",
       ".xr-var-item > .xr-var-name span {\n",
       "  background-color: var(--xr-background-color-row-even);\n",
       "  margin-bottom: 0;\n",
       "}\n",
       "\n",
       ".xr-var-item > .xr-var-name:hover span {\n",
       "  padding-right: 5px;\n",
       "}\n",
       "\n",
       ".xr-var-list > li:nth-child(odd) > div,\n",
       ".xr-var-list > li:nth-child(odd) > label,\n",
       ".xr-var-list > li:nth-child(odd) > .xr-var-name span {\n",
       "  background-color: var(--xr-background-color-row-odd);\n",
       "}\n",
       "\n",
       ".xr-var-name {\n",
       "  grid-column: 1;\n",
       "}\n",
       "\n",
       ".xr-var-dims {\n",
       "  grid-column: 2;\n",
       "}\n",
       "\n",
       ".xr-var-dtype {\n",
       "  grid-column: 3;\n",
       "  text-align: right;\n",
       "  color: var(--xr-font-color2);\n",
       "}\n",
       "\n",
       ".xr-var-preview {\n",
       "  grid-column: 4;\n",
       "}\n",
       "\n",
       ".xr-var-name,\n",
       ".xr-var-dims,\n",
       ".xr-var-dtype,\n",
       ".xr-preview,\n",
       ".xr-attrs dt {\n",
       "  white-space: nowrap;\n",
       "  overflow: hidden;\n",
       "  text-overflow: ellipsis;\n",
       "  padding-right: 10px;\n",
       "}\n",
       "\n",
       ".xr-var-name:hover,\n",
       ".xr-var-dims:hover,\n",
       ".xr-var-dtype:hover,\n",
       ".xr-attrs dt:hover {\n",
       "  overflow: visible;\n",
       "  width: auto;\n",
       "  z-index: 1;\n",
       "}\n",
       "\n",
       ".xr-var-attrs,\n",
       ".xr-var-data {\n",
       "  display: none;\n",
       "  background-color: var(--xr-background-color) !important;\n",
       "  padding-bottom: 5px !important;\n",
       "}\n",
       "\n",
       ".xr-var-attrs-in:checked ~ .xr-var-attrs,\n",
       ".xr-var-data-in:checked ~ .xr-var-data {\n",
       "  display: block;\n",
       "}\n",
       "\n",
       ".xr-var-data > table {\n",
       "  float: right;\n",
       "}\n",
       "\n",
       ".xr-var-name span,\n",
       ".xr-var-data,\n",
       ".xr-attrs {\n",
       "  padding-left: 25px !important;\n",
       "}\n",
       "\n",
       ".xr-attrs,\n",
       ".xr-var-attrs,\n",
       ".xr-var-data {\n",
       "  grid-column: 1 / -1;\n",
       "}\n",
       "\n",
       "dl.xr-attrs {\n",
       "  padding: 0;\n",
       "  margin: 0;\n",
       "  display: grid;\n",
       "  grid-template-columns: 125px auto;\n",
       "}\n",
       "\n",
       ".xr-attrs dt, dd {\n",
       "  padding: 0;\n",
       "  margin: 0;\n",
       "  float: left;\n",
       "  padding-right: 10px;\n",
       "  width: auto;\n",
       "}\n",
       "\n",
       ".xr-attrs dt {\n",
       "  font-weight: normal;\n",
       "  grid-column: 1;\n",
       "}\n",
       "\n",
       ".xr-attrs dt:hover span {\n",
       "  display: inline-block;\n",
       "  background: var(--xr-background-color);\n",
       "  padding-right: 10px;\n",
       "}\n",
       "\n",
       ".xr-attrs dd {\n",
       "  grid-column: 2;\n",
       "  white-space: pre-wrap;\n",
       "  word-break: break-all;\n",
       "}\n",
       "\n",
       ".xr-icon-database,\n",
       ".xr-icon-file-text2 {\n",
       "  display: inline-block;\n",
       "  vertical-align: middle;\n",
       "  width: 1em;\n",
       "  height: 1.5em !important;\n",
       "  stroke-width: 0;\n",
       "  stroke: currentColor;\n",
       "  fill: currentColor;\n",
       "}\n",
       "</style><pre class='xr-text-repr-fallback'>&lt;xarray.DataArray (time_da: 14975)&gt;\n",
       "array([&#x27;1979-01-01T00:00:00.000000000&#x27;, &#x27;1979-01-02T00:00:00.000000000&#x27;,\n",
       "       &#x27;1979-01-03T00:00:00.000000000&#x27;, ..., &#x27;2019-12-29T00:00:00.000000000&#x27;,\n",
       "       &#x27;2019-12-30T00:00:00.000000000&#x27;, &#x27;2019-12-31T00:00:00.000000000&#x27;],\n",
       "      dtype=&#x27;datetime64[ns]&#x27;)\n",
       "Coordinates:\n",
       "  * time_da  (time_da) datetime64[ns] 1979-01-01 1979-01-02 ... 2019-12-31</pre><div class='xr-wrap' hidden><div class='xr-header'><div class='xr-obj-type'>xarray.DataArray</div><div class='xr-array-name'></div><ul class='xr-dim-list'><li><span class='xr-has-index'>time_da</span>: 14975</li></ul></div><ul class='xr-sections'><li class='xr-section-item'><div class='xr-array-wrap'><input id='section-ad83170f-4d0e-41ff-8820-e8509afdc70e' class='xr-array-in' type='checkbox' checked><label for='section-ad83170f-4d0e-41ff-8820-e8509afdc70e' title='Show/hide data repr'><svg class='icon xr-icon-database'><use xlink:href='#icon-database'></use></svg></label><div class='xr-array-preview xr-preview'><span>1979-01-01 1979-01-02 1979-01-03 ... 2019-12-29 2019-12-30 2019-12-31</span></div><div class='xr-array-data'><pre>array([&#x27;1979-01-01T00:00:00.000000000&#x27;, &#x27;1979-01-02T00:00:00.000000000&#x27;,\n",
       "       &#x27;1979-01-03T00:00:00.000000000&#x27;, ..., &#x27;2019-12-29T00:00:00.000000000&#x27;,\n",
       "       &#x27;2019-12-30T00:00:00.000000000&#x27;, &#x27;2019-12-31T00:00:00.000000000&#x27;],\n",
       "      dtype=&#x27;datetime64[ns]&#x27;)</pre></div></div></li><li class='xr-section-item'><input id='section-f79acd0c-51c6-43ba-9fa6-b53f14c1c5be' class='xr-section-summary-in' type='checkbox'  checked><label for='section-f79acd0c-51c6-43ba-9fa6-b53f14c1c5be' class='xr-section-summary' >Coordinates: <span>(1)</span></label><div class='xr-section-inline-details'></div><div class='xr-section-details'><ul class='xr-var-list'><li class='xr-var-item'><div class='xr-var-name'><span class='xr-has-index'>time_da</span></div><div class='xr-var-dims'>(time_da)</div><div class='xr-var-dtype'>datetime64[ns]</div><div class='xr-var-preview xr-preview'>1979-01-01 ... 2019-12-31</div><input id='attrs-7a120420-8875-4771-914b-666a22dda59a' class='xr-var-attrs-in' type='checkbox' disabled><label for='attrs-7a120420-8875-4771-914b-666a22dda59a' title='Show/Hide attributes'><svg class='icon xr-icon-file-text2'><use xlink:href='#icon-file-text2'></use></svg></label><input id='data-f072d60e-cffa-4101-9c85-a13d886e990d' class='xr-var-data-in' type='checkbox'><label for='data-f072d60e-cffa-4101-9c85-a13d886e990d' title='Show/Hide data repr'><svg class='icon xr-icon-database'><use xlink:href='#icon-database'></use></svg></label><div class='xr-var-attrs'><dl class='xr-attrs'></dl></div><div class='xr-var-data'><pre>array([&#x27;1979-01-01T00:00:00.000000000&#x27;, &#x27;1979-01-02T00:00:00.000000000&#x27;,\n",
       "       &#x27;1979-01-03T00:00:00.000000000&#x27;, ..., &#x27;2019-12-29T00:00:00.000000000&#x27;,\n",
       "       &#x27;2019-12-30T00:00:00.000000000&#x27;, &#x27;2019-12-31T00:00:00.000000000&#x27;],\n",
       "      dtype=&#x27;datetime64[ns]&#x27;)</pre></div></li></ul></div></li><li class='xr-section-item'><input id='section-2ebef05e-e63b-4f5b-8c74-25f1c7e2ad85' class='xr-section-summary-in' type='checkbox' disabled ><label for='section-2ebef05e-e63b-4f5b-8c74-25f1c7e2ad85' class='xr-section-summary'  title='Expand/collapse section'>Attributes: <span>(0)</span></label><div class='xr-section-inline-details'></div><div class='xr-section-details'><dl class='xr-attrs'></dl></div></li></ul></div></div>"
      ],
      "text/plain": [
       "<xarray.DataArray (time_da: 14975)>\n",
       "array(['1979-01-01T00:00:00.000000000', '1979-01-02T00:00:00.000000000',\n",
       "       '1979-01-03T00:00:00.000000000', ..., '2019-12-29T00:00:00.000000000',\n",
       "       '2019-12-30T00:00:00.000000000', '2019-12-31T00:00:00.000000000'],\n",
       "      dtype='datetime64[ns]')\n",
       "Coordinates:\n",
       "  * time_da  (time_da) datetime64[ns] 1979-01-01 1979-01-02 ... 2019-12-31"
      ]
     },
     "execution_count": 3,
     "metadata": {},
     "output_type": "execute_result"
    }
   ],
   "source": [
    "#create new time array with datetime values\n",
    "date1=datetime.date(1979,1,1)\n",
    "date2=datetime.date(2019,12,31)\n",
    "times = pd.date_range(date1,date2)\n",
    "time_da = xr.DataArray(times, [('time_da', times)])\n",
    "time_da"
   ]
  },
  {
   "cell_type": "code",
   "execution_count": 4,
   "metadata": {},
   "outputs": [
    {
     "data": {
      "text/plain": [
       "DataArrayGroupBy, grouped over 'month' \n",
       "12 groups with labels 1, 2, 3, 4, 5, 6, 7, 8, 9, 10, 11, 12."
      ]
     },
     "execution_count": 4,
     "metadata": {},
     "output_type": "execute_result"
    }
   ],
   "source": [
    "#check \n",
    "time_month=time_da.groupby('time_da.month')\n",
    "time_month"
   ]
  },
  {
   "cell_type": "code",
   "execution_count": 5,
   "metadata": {},
   "outputs": [
    {
     "data": {
      "text/plain": [
       "DataArrayGroupBy, grouped over 'year' \n",
       "41 groups with labels 1979, 1980, 1981, ..., 2018, 2019."
      ]
     },
     "execution_count": 5,
     "metadata": {},
     "output_type": "execute_result"
    }
   ],
   "source": [
    "time_year=time_da.groupby('time_da.year')\n",
    "time_year"
   ]
  },
  {
   "cell_type": "code",
   "execution_count": 6,
   "metadata": {},
   "outputs": [],
   "source": [
    "d1=datetime.date(1979,1,1)\n",
    "d2=datetime.date(2019,12,31)"
   ]
  },
  {
   "cell_type": "code",
   "execution_count": 7,
   "metadata": {},
   "outputs": [
    {
     "data": {
      "text/plain": [
       "14975"
      ]
     },
     "execution_count": 7,
     "metadata": {},
     "output_type": "execute_result"
    }
   ],
   "source": [
    "index = pd.date_range(start=d1,end=d2,freq='D')\n",
    "len(index)"
   ]
  },
  {
   "cell_type": "code",
   "execution_count": 8,
   "metadata": {},
   "outputs": [
    {
     "data": {
      "text/plain": [
       "1979"
      ]
     },
     "execution_count": 8,
     "metadata": {},
     "output_type": "execute_result"
    }
   ],
   "source": [
    "index[0].year"
   ]
  },
  {
   "cell_type": "code",
   "execution_count": 9,
   "metadata": {},
   "outputs": [
    {
     "data": {
      "text/plain": [
       "[Timestamp('1979-03-01 00:00:00', freq='D'),\n",
       " Timestamp('1979-03-02 00:00:00', freq='D'),\n",
       " Timestamp('1979-03-03 00:00:00', freq='D'),\n",
       " Timestamp('1979-03-04 00:00:00', freq='D'),\n",
       " Timestamp('1979-03-05 00:00:00', freq='D'),\n",
       " Timestamp('1979-03-06 00:00:00', freq='D'),\n",
       " Timestamp('1979-03-07 00:00:00', freq='D'),\n",
       " Timestamp('1979-03-08 00:00:00', freq='D'),\n",
       " Timestamp('1979-03-09 00:00:00', freq='D'),\n",
       " Timestamp('1979-03-10 00:00:00', freq='D')]"
      ]
     },
     "execution_count": 9,
     "metadata": {},
     "output_type": "execute_result"
    }
   ],
   "source": [
    "#create list of spring months from index\n",
    "spring_months=[]\n",
    "for i in range(len(index)):\n",
    "    if index[i].month== 3 or index[i].month==4 or index[i].month==5 or index[i].month==6:\n",
    "        spring_months.append(index[i])\n",
    "#len(spring_months)\n",
    "spring_months[0:10]"
   ]
  },
  {
   "cell_type": "code",
   "execution_count": null,
   "metadata": {},
   "outputs": [],
   "source": []
  },
  {
   "cell_type": "code",
   "execution_count": 10,
   "metadata": {},
   "outputs": [],
   "source": [
    "lat=ds['lat']\n",
    "lon = ds['lon']\n",
    "hgt500= ds['GEOdaily']\n",
    "#hgt500"
   ]
  },
  {
   "cell_type": "code",
   "execution_count": 11,
   "metadata": {},
   "outputs": [
    {
     "data": {
      "text/html": [
       "<div><svg style=\"position: absolute; width: 0; height: 0; overflow: hidden\">\n",
       "<defs>\n",
       "<symbol id=\"icon-database\" viewBox=\"0 0 32 32\">\n",
       "<path d=\"M16 0c-8.837 0-16 2.239-16 5v4c0 2.761 7.163 5 16 5s16-2.239 16-5v-4c0-2.761-7.163-5-16-5z\"></path>\n",
       "<path d=\"M16 17c-8.837 0-16-2.239-16-5v6c0 2.761 7.163 5 16 5s16-2.239 16-5v-6c0 2.761-7.163 5-16 5z\"></path>\n",
       "<path d=\"M16 26c-8.837 0-16-2.239-16-5v6c0 2.761 7.163 5 16 5s16-2.239 16-5v-6c0 2.761-7.163 5-16 5z\"></path>\n",
       "</symbol>\n",
       "<symbol id=\"icon-file-text2\" viewBox=\"0 0 32 32\">\n",
       "<path d=\"M28.681 7.159c-0.694-0.947-1.662-2.053-2.724-3.116s-2.169-2.030-3.116-2.724c-1.612-1.182-2.393-1.319-2.841-1.319h-15.5c-1.378 0-2.5 1.121-2.5 2.5v27c0 1.378 1.122 2.5 2.5 2.5h23c1.378 0 2.5-1.122 2.5-2.5v-19.5c0-0.448-0.137-1.23-1.319-2.841zM24.543 5.457c0.959 0.959 1.712 1.825 2.268 2.543h-4.811v-4.811c0.718 0.556 1.584 1.309 2.543 2.268zM28 29.5c0 0.271-0.229 0.5-0.5 0.5h-23c-0.271 0-0.5-0.229-0.5-0.5v-27c0-0.271 0.229-0.5 0.5-0.5 0 0 15.499-0 15.5 0v7c0 0.552 0.448 1 1 1h7v19.5z\"></path>\n",
       "<path d=\"M23 26h-14c-0.552 0-1-0.448-1-1s0.448-1 1-1h14c0.552 0 1 0.448 1 1s-0.448 1-1 1z\"></path>\n",
       "<path d=\"M23 22h-14c-0.552 0-1-0.448-1-1s0.448-1 1-1h14c0.552 0 1 0.448 1 1s-0.448 1-1 1z\"></path>\n",
       "<path d=\"M23 18h-14c-0.552 0-1-0.448-1-1s0.448-1 1-1h14c0.552 0 1 0.448 1 1s-0.448 1-1 1z\"></path>\n",
       "</symbol>\n",
       "</defs>\n",
       "</svg>\n",
       "<style>/* CSS stylesheet for displaying xarray objects in jupyterlab.\n",
       " *\n",
       " */\n",
       "\n",
       ":root {\n",
       "  --xr-font-color0: var(--jp-content-font-color0, rgba(0, 0, 0, 1));\n",
       "  --xr-font-color2: var(--jp-content-font-color2, rgba(0, 0, 0, 0.54));\n",
       "  --xr-font-color3: var(--jp-content-font-color3, rgba(0, 0, 0, 0.38));\n",
       "  --xr-border-color: var(--jp-border-color2, #e0e0e0);\n",
       "  --xr-disabled-color: var(--jp-layout-color3, #bdbdbd);\n",
       "  --xr-background-color: var(--jp-layout-color0, white);\n",
       "  --xr-background-color-row-even: var(--jp-layout-color1, white);\n",
       "  --xr-background-color-row-odd: var(--jp-layout-color2, #eeeeee);\n",
       "}\n",
       "\n",
       "html[theme=dark],\n",
       "body.vscode-dark {\n",
       "  --xr-font-color0: rgba(255, 255, 255, 1);\n",
       "  --xr-font-color2: rgba(255, 255, 255, 0.54);\n",
       "  --xr-font-color3: rgba(255, 255, 255, 0.38);\n",
       "  --xr-border-color: #1F1F1F;\n",
       "  --xr-disabled-color: #515151;\n",
       "  --xr-background-color: #111111;\n",
       "  --xr-background-color-row-even: #111111;\n",
       "  --xr-background-color-row-odd: #313131;\n",
       "}\n",
       "\n",
       ".xr-wrap {\n",
       "  display: block;\n",
       "  min-width: 300px;\n",
       "  max-width: 700px;\n",
       "}\n",
       "\n",
       ".xr-text-repr-fallback {\n",
       "  /* fallback to plain text repr when CSS is not injected (untrusted notebook) */\n",
       "  display: none;\n",
       "}\n",
       "\n",
       ".xr-header {\n",
       "  padding-top: 6px;\n",
       "  padding-bottom: 6px;\n",
       "  margin-bottom: 4px;\n",
       "  border-bottom: solid 1px var(--xr-border-color);\n",
       "}\n",
       "\n",
       ".xr-header > div,\n",
       ".xr-header > ul {\n",
       "  display: inline;\n",
       "  margin-top: 0;\n",
       "  margin-bottom: 0;\n",
       "}\n",
       "\n",
       ".xr-obj-type,\n",
       ".xr-array-name {\n",
       "  margin-left: 2px;\n",
       "  margin-right: 10px;\n",
       "}\n",
       "\n",
       ".xr-obj-type {\n",
       "  color: var(--xr-font-color2);\n",
       "}\n",
       "\n",
       ".xr-sections {\n",
       "  padding-left: 0 !important;\n",
       "  display: grid;\n",
       "  grid-template-columns: 150px auto auto 1fr 20px 20px;\n",
       "}\n",
       "\n",
       ".xr-section-item {\n",
       "  display: contents;\n",
       "}\n",
       "\n",
       ".xr-section-item input {\n",
       "  display: none;\n",
       "}\n",
       "\n",
       ".xr-section-item input + label {\n",
       "  color: var(--xr-disabled-color);\n",
       "}\n",
       "\n",
       ".xr-section-item input:enabled + label {\n",
       "  cursor: pointer;\n",
       "  color: var(--xr-font-color2);\n",
       "}\n",
       "\n",
       ".xr-section-item input:enabled + label:hover {\n",
       "  color: var(--xr-font-color0);\n",
       "}\n",
       "\n",
       ".xr-section-summary {\n",
       "  grid-column: 1;\n",
       "  color: var(--xr-font-color2);\n",
       "  font-weight: 500;\n",
       "}\n",
       "\n",
       ".xr-section-summary > span {\n",
       "  display: inline-block;\n",
       "  padding-left: 0.5em;\n",
       "}\n",
       "\n",
       ".xr-section-summary-in:disabled + label {\n",
       "  color: var(--xr-font-color2);\n",
       "}\n",
       "\n",
       ".xr-section-summary-in + label:before {\n",
       "  display: inline-block;\n",
       "  content: '►';\n",
       "  font-size: 11px;\n",
       "  width: 15px;\n",
       "  text-align: center;\n",
       "}\n",
       "\n",
       ".xr-section-summary-in:disabled + label:before {\n",
       "  color: var(--xr-disabled-color);\n",
       "}\n",
       "\n",
       ".xr-section-summary-in:checked + label:before {\n",
       "  content: '▼';\n",
       "}\n",
       "\n",
       ".xr-section-summary-in:checked + label > span {\n",
       "  display: none;\n",
       "}\n",
       "\n",
       ".xr-section-summary,\n",
       ".xr-section-inline-details {\n",
       "  padding-top: 4px;\n",
       "  padding-bottom: 4px;\n",
       "}\n",
       "\n",
       ".xr-section-inline-details {\n",
       "  grid-column: 2 / -1;\n",
       "}\n",
       "\n",
       ".xr-section-details {\n",
       "  display: none;\n",
       "  grid-column: 1 / -1;\n",
       "  margin-bottom: 5px;\n",
       "}\n",
       "\n",
       ".xr-section-summary-in:checked ~ .xr-section-details {\n",
       "  display: contents;\n",
       "}\n",
       "\n",
       ".xr-array-wrap {\n",
       "  grid-column: 1 / -1;\n",
       "  display: grid;\n",
       "  grid-template-columns: 20px auto;\n",
       "}\n",
       "\n",
       ".xr-array-wrap > label {\n",
       "  grid-column: 1;\n",
       "  vertical-align: top;\n",
       "}\n",
       "\n",
       ".xr-preview {\n",
       "  color: var(--xr-font-color3);\n",
       "}\n",
       "\n",
       ".xr-array-preview,\n",
       ".xr-array-data {\n",
       "  padding: 0 5px !important;\n",
       "  grid-column: 2;\n",
       "}\n",
       "\n",
       ".xr-array-data,\n",
       ".xr-array-in:checked ~ .xr-array-preview {\n",
       "  display: none;\n",
       "}\n",
       "\n",
       ".xr-array-in:checked ~ .xr-array-data,\n",
       ".xr-array-preview {\n",
       "  display: inline-block;\n",
       "}\n",
       "\n",
       ".xr-dim-list {\n",
       "  display: inline-block !important;\n",
       "  list-style: none;\n",
       "  padding: 0 !important;\n",
       "  margin: 0;\n",
       "}\n",
       "\n",
       ".xr-dim-list li {\n",
       "  display: inline-block;\n",
       "  padding: 0;\n",
       "  margin: 0;\n",
       "}\n",
       "\n",
       ".xr-dim-list:before {\n",
       "  content: '(';\n",
       "}\n",
       "\n",
       ".xr-dim-list:after {\n",
       "  content: ')';\n",
       "}\n",
       "\n",
       ".xr-dim-list li:not(:last-child):after {\n",
       "  content: ',';\n",
       "  padding-right: 5px;\n",
       "}\n",
       "\n",
       ".xr-has-index {\n",
       "  font-weight: bold;\n",
       "}\n",
       "\n",
       ".xr-var-list,\n",
       ".xr-var-item {\n",
       "  display: contents;\n",
       "}\n",
       "\n",
       ".xr-var-item > div,\n",
       ".xr-var-item label,\n",
       ".xr-var-item > .xr-var-name span {\n",
       "  background-color: var(--xr-background-color-row-even);\n",
       "  margin-bottom: 0;\n",
       "}\n",
       "\n",
       ".xr-var-item > .xr-var-name:hover span {\n",
       "  padding-right: 5px;\n",
       "}\n",
       "\n",
       ".xr-var-list > li:nth-child(odd) > div,\n",
       ".xr-var-list > li:nth-child(odd) > label,\n",
       ".xr-var-list > li:nth-child(odd) > .xr-var-name span {\n",
       "  background-color: var(--xr-background-color-row-odd);\n",
       "}\n",
       "\n",
       ".xr-var-name {\n",
       "  grid-column: 1;\n",
       "}\n",
       "\n",
       ".xr-var-dims {\n",
       "  grid-column: 2;\n",
       "}\n",
       "\n",
       ".xr-var-dtype {\n",
       "  grid-column: 3;\n",
       "  text-align: right;\n",
       "  color: var(--xr-font-color2);\n",
       "}\n",
       "\n",
       ".xr-var-preview {\n",
       "  grid-column: 4;\n",
       "}\n",
       "\n",
       ".xr-var-name,\n",
       ".xr-var-dims,\n",
       ".xr-var-dtype,\n",
       ".xr-preview,\n",
       ".xr-attrs dt {\n",
       "  white-space: nowrap;\n",
       "  overflow: hidden;\n",
       "  text-overflow: ellipsis;\n",
       "  padding-right: 10px;\n",
       "}\n",
       "\n",
       ".xr-var-name:hover,\n",
       ".xr-var-dims:hover,\n",
       ".xr-var-dtype:hover,\n",
       ".xr-attrs dt:hover {\n",
       "  overflow: visible;\n",
       "  width: auto;\n",
       "  z-index: 1;\n",
       "}\n",
       "\n",
       ".xr-var-attrs,\n",
       ".xr-var-data {\n",
       "  display: none;\n",
       "  background-color: var(--xr-background-color) !important;\n",
       "  padding-bottom: 5px !important;\n",
       "}\n",
       "\n",
       ".xr-var-attrs-in:checked ~ .xr-var-attrs,\n",
       ".xr-var-data-in:checked ~ .xr-var-data {\n",
       "  display: block;\n",
       "}\n",
       "\n",
       ".xr-var-data > table {\n",
       "  float: right;\n",
       "}\n",
       "\n",
       ".xr-var-name span,\n",
       ".xr-var-data,\n",
       ".xr-attrs {\n",
       "  padding-left: 25px !important;\n",
       "}\n",
       "\n",
       ".xr-attrs,\n",
       ".xr-var-attrs,\n",
       ".xr-var-data {\n",
       "  grid-column: 1 / -1;\n",
       "}\n",
       "\n",
       "dl.xr-attrs {\n",
       "  padding: 0;\n",
       "  margin: 0;\n",
       "  display: grid;\n",
       "  grid-template-columns: 125px auto;\n",
       "}\n",
       "\n",
       ".xr-attrs dt, dd {\n",
       "  padding: 0;\n",
       "  margin: 0;\n",
       "  float: left;\n",
       "  padding-right: 10px;\n",
       "  width: auto;\n",
       "}\n",
       "\n",
       ".xr-attrs dt {\n",
       "  font-weight: normal;\n",
       "  grid-column: 1;\n",
       "}\n",
       "\n",
       ".xr-attrs dt:hover span {\n",
       "  display: inline-block;\n",
       "  background: var(--xr-background-color);\n",
       "  padding-right: 10px;\n",
       "}\n",
       "\n",
       ".xr-attrs dd {\n",
       "  grid-column: 2;\n",
       "  white-space: pre-wrap;\n",
       "  word-break: break-all;\n",
       "}\n",
       "\n",
       ".xr-icon-database,\n",
       ".xr-icon-file-text2 {\n",
       "  display: inline-block;\n",
       "  vertical-align: middle;\n",
       "  width: 1em;\n",
       "  height: 1.5em !important;\n",
       "  stroke-width: 0;\n",
       "  stroke: currentColor;\n",
       "  fill: currentColor;\n",
       "}\n",
       "</style><pre class='xr-text-repr-fallback'>&lt;xarray.Dataset&gt;\n",
       "Dimensions:   (lat: 91, lon: 360, time_da: 14975)\n",
       "Coordinates:\n",
       "  * time_da   (time_da) datetime64[ns] 1979-01-01 1979-01-02 ... 2019-12-31\n",
       "  * lat       (lat) float32 0.0 1.0 2.0 3.0 4.0 5.0 ... 86.0 87.0 88.0 89.0 90.0\n",
       "  * lon       (lon) float32 0.0 1.0 2.0 3.0 4.0 ... 356.0 357.0 358.0 359.0\n",
       "Data variables:\n",
       "    GEOdaily  (time_da, lat, lon) float32 5839.5864 5840.3203 ... 4911.2456</pre><div class='xr-wrap' hidden><div class='xr-header'><div class='xr-obj-type'>xarray.Dataset</div></div><ul class='xr-sections'><li class='xr-section-item'><input id='section-48085d98-266e-4a69-bd34-e5ae8854db5a' class='xr-section-summary-in' type='checkbox' disabled ><label for='section-48085d98-266e-4a69-bd34-e5ae8854db5a' class='xr-section-summary'  title='Expand/collapse section'>Dimensions:</label><div class='xr-section-inline-details'><ul class='xr-dim-list'><li><span class='xr-has-index'>lat</span>: 91</li><li><span class='xr-has-index'>lon</span>: 360</li><li><span class='xr-has-index'>time_da</span>: 14975</li></ul></div><div class='xr-section-details'></div></li><li class='xr-section-item'><input id='section-b49d2fbe-3c0f-4d67-a3f4-5321248b9b52' class='xr-section-summary-in' type='checkbox'  checked><label for='section-b49d2fbe-3c0f-4d67-a3f4-5321248b9b52' class='xr-section-summary' >Coordinates: <span>(3)</span></label><div class='xr-section-inline-details'></div><div class='xr-section-details'><ul class='xr-var-list'><li class='xr-var-item'><div class='xr-var-name'><span class='xr-has-index'>time_da</span></div><div class='xr-var-dims'>(time_da)</div><div class='xr-var-dtype'>datetime64[ns]</div><div class='xr-var-preview xr-preview'>1979-01-01 ... 2019-12-31</div><input id='attrs-5164f3b2-3975-48e7-afbf-c5f10efbe282' class='xr-var-attrs-in' type='checkbox' disabled><label for='attrs-5164f3b2-3975-48e7-afbf-c5f10efbe282' title='Show/Hide attributes'><svg class='icon xr-icon-file-text2'><use xlink:href='#icon-file-text2'></use></svg></label><input id='data-577a9a6e-a673-429a-988d-0b69f46a3590' class='xr-var-data-in' type='checkbox'><label for='data-577a9a6e-a673-429a-988d-0b69f46a3590' title='Show/Hide data repr'><svg class='icon xr-icon-database'><use xlink:href='#icon-database'></use></svg></label><div class='xr-var-attrs'><dl class='xr-attrs'></dl></div><div class='xr-var-data'><pre>array([&#x27;1979-01-01T00:00:00.000000000&#x27;, &#x27;1979-01-02T00:00:00.000000000&#x27;,\n",
       "       &#x27;1979-01-03T00:00:00.000000000&#x27;, ..., &#x27;2019-12-29T00:00:00.000000000&#x27;,\n",
       "       &#x27;2019-12-30T00:00:00.000000000&#x27;, &#x27;2019-12-31T00:00:00.000000000&#x27;],\n",
       "      dtype=&#x27;datetime64[ns]&#x27;)</pre></div></li><li class='xr-var-item'><div class='xr-var-name'><span class='xr-has-index'>lat</span></div><div class='xr-var-dims'>(lat)</div><div class='xr-var-dtype'>float32</div><div class='xr-var-preview xr-preview'>0.0 1.0 2.0 3.0 ... 88.0 89.0 90.0</div><input id='attrs-fe9d05d1-a2d7-495a-aee7-afdd953afb41' class='xr-var-attrs-in' type='checkbox' ><label for='attrs-fe9d05d1-a2d7-495a-aee7-afdd953afb41' title='Show/Hide attributes'><svg class='icon xr-icon-file-text2'><use xlink:href='#icon-file-text2'></use></svg></label><input id='data-d34b7a12-9db9-40a3-823f-7c5c0b265236' class='xr-var-data-in' type='checkbox'><label for='data-d34b7a12-9db9-40a3-823f-7c5c0b265236' title='Show/Hide data repr'><svg class='icon xr-icon-database'><use xlink:href='#icon-database'></use></svg></label><div class='xr-var-attrs'><dl class='xr-attrs'><dt><span>units :</span></dt><dd>degrees_north</dd></dl></div><div class='xr-var-data'><pre>array([ 0.,  1.,  2.,  3.,  4.,  5.,  6.,  7.,  8.,  9., 10., 11., 12., 13.,\n",
       "       14., 15., 16., 17., 18., 19., 20., 21., 22., 23., 24., 25., 26., 27.,\n",
       "       28., 29., 30., 31., 32., 33., 34., 35., 36., 37., 38., 39., 40., 41.,\n",
       "       42., 43., 44., 45., 46., 47., 48., 49., 50., 51., 52., 53., 54., 55.,\n",
       "       56., 57., 58., 59., 60., 61., 62., 63., 64., 65., 66., 67., 68., 69.,\n",
       "       70., 71., 72., 73., 74., 75., 76., 77., 78., 79., 80., 81., 82., 83.,\n",
       "       84., 85., 86., 87., 88., 89., 90.], dtype=float32)</pre></div></li><li class='xr-var-item'><div class='xr-var-name'><span class='xr-has-index'>lon</span></div><div class='xr-var-dims'>(lon)</div><div class='xr-var-dtype'>float32</div><div class='xr-var-preview xr-preview'>0.0 1.0 2.0 ... 357.0 358.0 359.0</div><input id='attrs-3d6a8f3c-9bdb-4f90-807e-2dbb9e492482' class='xr-var-attrs-in' type='checkbox' ><label for='attrs-3d6a8f3c-9bdb-4f90-807e-2dbb9e492482' title='Show/Hide attributes'><svg class='icon xr-icon-file-text2'><use xlink:href='#icon-file-text2'></use></svg></label><input id='data-f8ef0855-7163-4921-b4f4-1392cc97a262' class='xr-var-data-in' type='checkbox'><label for='data-f8ef0855-7163-4921-b4f4-1392cc97a262' title='Show/Hide data repr'><svg class='icon xr-icon-database'><use xlink:href='#icon-database'></use></svg></label><div class='xr-var-attrs'><dl class='xr-attrs'><dt><span>units :</span></dt><dd>degrees_east</dd></dl></div><div class='xr-var-data'><pre>array([  0.,   1.,   2., ..., 357., 358., 359.], dtype=float32)</pre></div></li></ul></div></li><li class='xr-section-item'><input id='section-c810f334-e0d9-42c2-b780-e89657fa9d26' class='xr-section-summary-in' type='checkbox'  checked><label for='section-c810f334-e0d9-42c2-b780-e89657fa9d26' class='xr-section-summary' >Data variables: <span>(1)</span></label><div class='xr-section-inline-details'></div><div class='xr-section-details'><ul class='xr-var-list'><li class='xr-var-item'><div class='xr-var-name'><span>GEOdaily</span></div><div class='xr-var-dims'>(time_da, lat, lon)</div><div class='xr-var-dtype'>float32</div><div class='xr-var-preview xr-preview'>5839.5864 5840.3203 ... 4911.2456</div><input id='attrs-9ea6d1b9-2241-4304-acda-447c79ff7487' class='xr-var-attrs-in' type='checkbox' disabled><label for='attrs-9ea6d1b9-2241-4304-acda-447c79ff7487' title='Show/Hide attributes'><svg class='icon xr-icon-file-text2'><use xlink:href='#icon-file-text2'></use></svg></label><input id='data-f27ac291-480e-45cb-9092-2a23b420bc6d' class='xr-var-data-in' type='checkbox'><label for='data-f27ac291-480e-45cb-9092-2a23b420bc6d' title='Show/Hide data repr'><svg class='icon xr-icon-database'><use xlink:href='#icon-database'></use></svg></label><div class='xr-var-attrs'><dl class='xr-attrs'></dl></div><div class='xr-var-data'><pre>array([[[5839.5864, 5840.3203, 5841.036 , ..., 5839.909 , 5839.472 ,\n",
       "         5839.2466],\n",
       "        [5840.0938, 5840.4385, 5840.8633, ..., 5840.3438, 5840.0864,\n",
       "         5839.966 ],\n",
       "        [5841.4146, 5841.099 , 5841.1104, ..., 5840.568 , 5840.842 ,\n",
       "         5841.043 ],\n",
       "        ...,\n",
       "        [5085.7446, 5084.6504, 5083.5503, ..., 5089.022 , 5087.921 ,\n",
       "         5086.821 ],\n",
       "        [5108.136 , 5107.586 , 5107.048 , ..., 5109.805 , 5109.2363,\n",
       "         5108.686 ],\n",
       "        [5130.7456, 5130.7456, 5130.7456, ..., 5130.7456, 5130.7456,\n",
       "         5130.7456]],\n",
       "\n",
       "       [[5844.371 , 5844.465 , 5843.888 , ..., 5843.5747, 5844.306 ,\n",
       "         5844.511 ],\n",
       "        [5844.1284, 5844.418 , 5843.8623, ..., 5843.623 , 5844.4814,\n",
       "         5844.338 ],\n",
       "        [5843.972 , 5843.847 , 5843.89  , ..., 5844.719 , 5844.784 ,\n",
       "         5844.1167],\n",
       "...\n",
       "        [4977.9053, 4978.36  , 4978.7974, ..., 4976.4316, 4976.9326,\n",
       "         4977.4277],\n",
       "        [4967.8325, 4968.103 , 4968.362 , ..., 4966.981 , 4967.2686,\n",
       "         4967.551 ],\n",
       "        [4957.3066, 4957.3066, 4957.3066, ..., 4957.3066, 4957.3066,\n",
       "         4957.3066]],\n",
       "\n",
       "       [[5868.7407, 5868.5625, 5869.1323, ..., 5869.3994, 5869.166 ,\n",
       "         5869.183 ],\n",
       "        [5869.491 , 5869.3765, 5869.578 , ..., 5869.6255, 5869.542 ,\n",
       "         5869.6113],\n",
       "        [5870.1064, 5870.0737, 5870.127 , ..., 5870.421 , 5870.291 ,\n",
       "         5870.2207],\n",
       "        ...,\n",
       "        [4915.4995, 4916.19  , 4916.8574, ..., 4913.2617, 4914.0444,\n",
       "         4914.7974],\n",
       "        [4912.5034, 4912.8486, 4913.1934, ..., 4911.434 , 4911.7793,\n",
       "         4912.1475],\n",
       "        [4911.2456, 4911.2456, 4911.2456, ..., 4911.2456, 4911.2456,\n",
       "         4911.2456]]], dtype=float32)</pre></div></li></ul></div></li><li class='xr-section-item'><input id='section-aec0a832-f234-4f24-9eeb-80813379b88c' class='xr-section-summary-in' type='checkbox' disabled ><label for='section-aec0a832-f234-4f24-9eeb-80813379b88c' class='xr-section-summary'  title='Expand/collapse section'>Attributes: <span>(0)</span></label><div class='xr-section-inline-details'></div><div class='xr-section-details'><dl class='xr-attrs'></dl></div></li></ul></div></div>"
      ],
      "text/plain": [
       "<xarray.Dataset>\n",
       "Dimensions:   (lat: 91, lon: 360, time_da: 14975)\n",
       "Coordinates:\n",
       "  * time_da   (time_da) datetime64[ns] 1979-01-01 1979-01-02 ... 2019-12-31\n",
       "  * lat       (lat) float32 0.0 1.0 2.0 3.0 4.0 5.0 ... 86.0 87.0 88.0 89.0 90.0\n",
       "  * lon       (lon) float32 0.0 1.0 2.0 3.0 4.0 ... 356.0 357.0 358.0 359.0\n",
       "Data variables:\n",
       "    GEOdaily  (time_da, lat, lon) float32 5839.5864 5840.3203 ... 4911.2456"
      ]
     },
     "execution_count": 11,
     "metadata": {},
     "output_type": "execute_result"
    }
   ],
   "source": [
    "hgt500_array = xr.Dataset({\n",
    "    'GEOdaily': xr.DataArray(\n",
    "                data   = hgt500,\n",
    "                dims   = ['time_da','lat','lon'],\n",
    "                coords = {'time_da': time_da, 'lat': lat, 'lon': lon})})\n",
    "\n",
    "hgt500_array"
   ]
  },
  {
   "cell_type": "code",
   "execution_count": 12,
   "metadata": {},
   "outputs": [],
   "source": [
    "#plt.plot(hgt500_array.GEOdaily.sel(lat=39, lon=95 ))"
   ]
  },
  {
   "cell_type": "code",
   "execution_count": 13,
   "metadata": {},
   "outputs": [],
   "source": [
    "#plt.plot(hgt500_array.GEOdaily.sel(lat=33, lon=151 ))"
   ]
  },
  {
   "cell_type": "code",
   "execution_count": 14,
   "metadata": {},
   "outputs": [],
   "source": [
    "#hgt500_array.mean('time_da')"
   ]
  },
  {
   "cell_type": "code",
   "execution_count": 15,
   "metadata": {},
   "outputs": [
    {
     "data": {
      "text/plain": [
       "(12, 91, 360)"
      ]
     },
     "execution_count": 15,
     "metadata": {},
     "output_type": "execute_result"
    }
   ],
   "source": [
    "apple = hgt500_array.groupby('time_da.month').mean()\n",
    "np.shape(apple.GEOdaily.values)"
   ]
  },
  {
   "cell_type": "code",
   "execution_count": 16,
   "metadata": {},
   "outputs": [
    {
     "data": {
      "text/plain": [
       "(14975, 91, 360)"
      ]
     },
     "execution_count": 16,
     "metadata": {},
     "output_type": "execute_result"
    }
   ],
   "source": [
    "np.shape(hgt500_array.GEOdaily.values)"
   ]
  },
  {
   "cell_type": "code",
   "execution_count": 17,
   "metadata": {},
   "outputs": [],
   "source": [
    "#apple.GEOdaily.values.reshape(len(time_year),len(time_month),len(lat),len(lon))"
   ]
  },
  {
   "cell_type": "code",
   "execution_count": 18,
   "metadata": {},
   "outputs": [
    {
     "data": {
      "text/plain": [
       "(41, 12, 91, 360)"
      ]
     },
     "execution_count": 18,
     "metadata": {},
     "output_type": "execute_result"
    }
   ],
   "source": [
    "a_array = np.zeros((len(time_year),len(time_month),len(lat),len(lon)))\n",
    "np.shape(a_array)"
   ]
  },
  {
   "cell_type": "code",
   "execution_count": 19,
   "metadata": {},
   "outputs": [
    {
     "data": {
      "text/plain": [
       "1980"
      ]
     },
     "execution_count": 19,
     "metadata": {},
     "output_type": "execute_result"
    }
   ],
   "source": [
    "year_list=[]\n",
    "for i in range(len(index)):\n",
    "    year_list.append(index[i].year)\n",
    "year_list[366]\n"
   ]
  },
  {
   "cell_type": "code",
   "execution_count": 20,
   "metadata": {},
   "outputs": [],
   "source": [
    "month_list=[]\n",
    "for i in range(len(index)):\n",
    "    month_list.append(index[i].month)\n",
    "#month_list"
   ]
  },
  {
   "cell_type": "code",
   "execution_count": 21,
   "metadata": {},
   "outputs": [
    {
     "data": {
      "text/plain": [
       "14975"
      ]
     },
     "execution_count": 21,
     "metadata": {},
     "output_type": "execute_result"
    }
   ],
   "source": [
    "daily_list=[]\n",
    "for i in range(len(index)):\n",
    "    daily_list.append(index[i])\n",
    "len(daily_list)"
   ]
  },
  {
   "cell_type": "code",
   "execution_count": 22,
   "metadata": {},
   "outputs": [],
   "source": [
    "pumpkin = np.arange(1979,2020,1)"
   ]
  },
  {
   "cell_type": "code",
   "execution_count": 23,
   "metadata": {},
   "outputs": [
    {
     "data": {
      "text/plain": [
       "array([ 1,  2,  3,  4,  5,  6,  7,  8,  9, 10, 11, 12])"
      ]
     },
     "execution_count": 23,
     "metadata": {},
     "output_type": "execute_result"
    }
   ],
   "source": [
    "pear = np.arange(1,13,1)\n",
    "pear"
   ]
  },
  {
   "cell_type": "code",
   "execution_count": 24,
   "metadata": {},
   "outputs": [],
   "source": [
    "#match year works to find the indices where the year list and month list indices match\n",
    "geo_values=hgt500_array.GEOdaily.values\n",
    "for i in range(len(time_year)):\n",
    "    for j in range(len(time_month)):\n",
    "        match_year = np.where(np.logical_and(year_list==pumpkin[i], month_list==pear[j]))\n",
    "        a_array[i,j,:,:] = np.mean(geo_values[match_year[0],:,:],axis=0)"
   ]
  },
  {
   "cell_type": "code",
   "execution_count": 25,
   "metadata": {},
   "outputs": [
    {
     "data": {
      "text/plain": [
       "(12, 91, 360)"
      ]
     },
     "execution_count": 25,
     "metadata": {},
     "output_type": "execute_result"
    }
   ],
   "source": [
    "climo_array = np.mean(a_array, axis=0)\n",
    "np.shape(climo_array)\n",
    "#pick lat and lon in US and plot climo , bell curve"
   ]
  },
  {
   "cell_type": "code",
   "execution_count": 26,
   "metadata": {},
   "outputs": [
    {
     "data": {
      "text/plain": [
       "(41, 12, 91, 360)"
      ]
     },
     "execution_count": 26,
     "metadata": {},
     "output_type": "execute_result"
    }
   ],
   "source": [
    "np.shape(a_array)"
   ]
  },
  {
   "cell_type": "code",
   "execution_count": 27,
   "metadata": {},
   "outputs": [],
   "source": [
    "#plt.plot(a_array[7][4][43])"
   ]
  },
  {
   "cell_type": "code",
   "execution_count": 28,
   "metadata": {},
   "outputs": [
    {
     "data": {
      "text/plain": [
       "(12, 91, 360)"
      ]
     },
     "execution_count": 28,
     "metadata": {},
     "output_type": "execute_result"
    }
   ],
   "source": [
    "np.shape(climo_array)\n",
    "#type(climo_array)"
   ]
  },
  {
   "cell_type": "code",
   "execution_count": 29,
   "metadata": {},
   "outputs": [],
   "source": [
    "#plt.plot(climo_array[:,4],climo_array[:,12])\n",
    "#plt.show()"
   ]
  },
  {
   "cell_type": "code",
   "execution_count": 30,
   "metadata": {},
   "outputs": [
    {
     "data": {
      "image/png": "[encoded data removed]",
      "text/plain": [
       "<Figure size 432x288 with 1 Axes>"
      ]
     },
     "metadata": {
      "needs_background": "light"
     },
     "output_type": "display_data"
    }
   ],
   "source": [
    "plt.plot(climo_array[:,81,350])\n",
    "plt.show()"
   ]
  },
  {
   "cell_type": "code",
   "execution_count": 31,
   "metadata": {},
   "outputs": [],
   "source": [
    "#average all years together (x-axis is each month)\n",
    "#anom_array should be climo_array\n",
    "#subtract from geo values\n",
    "#loop through every month in geo values, need to go by 1d individually (loop thru months)\n",
    "#match the months fro climo array and geo values\n",
    "#should be size of geo values \n",
    "#anom_geo[:,j,:,:,:] = 5d_geovalues[:,j,:,:,:] - climo_array[j,:,:]\n",
    "#can reshape back to time, lat ,lon\n",
    "#makes it easier so the j dim is 12 for both"
   ]
  },
  {
   "cell_type": "code",
   "execution_count": 32,
   "metadata": {},
   "outputs": [],
   "source": [
    "#You want to make sure that you are subtracting the january climatological value at each grid point from all Januaries in \n",
    "#geo_value, and so on"
   ]
  },
  {
   "cell_type": "code",
   "execution_count": 33,
   "metadata": {},
   "outputs": [],
   "source": [
    "#geo_values=hgt500_array.GEOdaily.values\n",
    "#np.shape(geo_values)\n",
    "#len(match_year[0])"
   ]
  },
  {
   "cell_type": "code",
   "execution_count": 34,
   "metadata": {},
   "outputs": [],
   "source": [
    "#31 represents first month and how many days are in it\n",
    "#np.shape(geo_values[match_year[0],:,:])"
   ]
  },
  {
   "cell_type": "code",
   "execution_count": 35,
   "metadata": {},
   "outputs": [],
   "source": [
    "#loop thru climo array and geo values and match month indices "
   ]
  },
  {
   "cell_type": "code",
   "execution_count": 36,
   "metadata": {},
   "outputs": [
    {
     "data": {
      "text/plain": [
       "(14975, 91, 360)"
      ]
     },
     "execution_count": 36,
     "metadata": {},
     "output_type": "execute_result"
    }
   ],
   "source": [
    "np.shape(geo_values)"
   ]
  },
  {
   "cell_type": "code",
   "execution_count": 37,
   "metadata": {},
   "outputs": [
    {
     "data": {
      "text/plain": [
       "(12, 91, 360)"
      ]
     },
     "execution_count": 37,
     "metadata": {},
     "output_type": "execute_result"
    }
   ],
   "source": [
    "np.shape(climo_array)"
   ]
  },
  {
   "cell_type": "code",
   "execution_count": 38,
   "metadata": {},
   "outputs": [
    {
     "data": {
      "text/plain": [
       "(14975, 91, 360)"
      ]
     },
     "execution_count": 38,
     "metadata": {},
     "output_type": "execute_result"
    }
   ],
   "source": [
    "anom_array = np.zeros(np.shape(geo_values))\n",
    "np.shape(anom_array)"
   ]
  },
  {
   "cell_type": "code",
   "execution_count": 39,
   "metadata": {},
   "outputs": [],
   "source": [
    "#month_list"
   ]
  },
  {
   "cell_type": "code",
   "execution_count": 40,
   "metadata": {},
   "outputs": [],
   "source": [
    "#pear is arange 1-12\n",
    "for i in range(len(month_list)):\n",
    "    for j in range(len(pear)):\n",
    "        if month_list[i] == pear[j]:\n",
    "            anom_array[i,:,:] = geo_values[i,:,:]- climo_array[j,:,:]"
   ]
  },
  {
   "cell_type": "code",
   "execution_count": 41,
   "metadata": {},
   "outputs": [
    {
     "data": {
      "text/plain": [
       "(14975, 91, 360)"
      ]
     },
     "execution_count": 41,
     "metadata": {},
     "output_type": "execute_result"
    }
   ],
   "source": [
    "np.shape(anom_array)"
   ]
  },
  {
   "cell_type": "code",
   "execution_count": 42,
   "metadata": {},
   "outputs": [],
   "source": [
    "#np.mean(geo_values[match_year[0],:,:],axis=0)\n",
    "#len(match_year[0])"
   ]
  },
  {
   "cell_type": "code",
   "execution_count": 43,
   "metadata": {},
   "outputs": [],
   "source": [
    "#hgt500_anom = hgt500_array-hgt500_array.mean('time_da')\n",
    "#hgt500_anom"
   ]
  },
  {
   "cell_type": "code",
   "execution_count": 44,
   "metadata": {
    "scrolled": true
   },
   "outputs": [],
   "source": [
    "#climo = hgt500_anom.groupby('time_da.month').mean('time_da')\n",
    "#rmv_climo = hgt500_anom.groupby('time_da.month')-climo\n",
    "#type(hgt500_array['time_da'])\n",
    "#rmv_climo = anom_array-climo_array"
   ]
  },
  {
   "cell_type": "code",
   "execution_count": 45,
   "metadata": {},
   "outputs": [],
   "source": [
    "#spring months idx list to grab the indicies\n",
    "spring_months_idx=[]\n",
    "for i in range(len(index)):\n",
    "    if index[i].month== 3 or index[i].month==4 or index[i].month==5 or index[i].month==6:\n",
    "        spring_months_idx.append(i)"
   ]
  },
  {
   "cell_type": "code",
   "execution_count": 46,
   "metadata": {},
   "outputs": [],
   "source": [
    "#spring_months_idx\n",
    "#len(index)"
   ]
  },
  {
   "cell_type": "code",
   "execution_count": 47,
   "metadata": {},
   "outputs": [],
   "source": [
    "#spring_months_idx=[]\n",
    "#for i in range(len(rmv_climo.time_da)):\n",
    " #   if rmv_climo.time_da[i].month== 3 or rmv_climo.time_da[i].month==4 or rmv_climo.time_da[i].month==5 or rmv_climo.time_da[i].month==6:\n",
    "  #      spring_months_idx.append(i)\n",
    "#spring_months_idx[0:10]"
   ]
  },
  {
   "cell_type": "code",
   "execution_count": 48,
   "metadata": {},
   "outputs": [
    {
     "data": {
      "text/plain": [
       "(5002, 91, 360)"
      ]
     },
     "execution_count": 48,
     "metadata": {},
     "output_type": "execute_result"
    }
   ],
   "source": [
    "spring_array=np.zeros([len(spring_months_idx),len(lat),len(lon)])\n",
    "np.shape(spring_array)"
   ]
  },
  {
   "cell_type": "code",
   "execution_count": 49,
   "metadata": {},
   "outputs": [],
   "source": [
    "#spring_months_idx"
   ]
  },
  {
   "cell_type": "code",
   "execution_count": 50,
   "metadata": {},
   "outputs": [],
   "source": [
    "spring_array=anom_array[spring_months_idx,:,:]"
   ]
  },
  {
   "cell_type": "code",
   "execution_count": 51,
   "metadata": {},
   "outputs": [],
   "source": [
    "#for i in range(len(spring_months_idx)):\n",
    "   # if i == 2500:\n",
    "    #    print('halfway')\n",
    " #   spring_array[i,:,:] = rmv_climo.GEOdaily[spring_months_idx[i],:,:].values"
   ]
  },
  {
   "cell_type": "code",
   "execution_count": 52,
   "metadata": {},
   "outputs": [
    {
     "data": {
      "text/plain": [
       "(5002, 91, 360)"
      ]
     },
     "execution_count": 52,
     "metadata": {},
     "output_type": "execute_result"
    }
   ],
   "source": [
    "np.shape(spring_array)"
   ]
  },
  {
   "cell_type": "code",
   "execution_count": 53,
   "metadata": {},
   "outputs": [],
   "source": [
    "#rmv_climo[spring_months_idx[i],:,:].values\n",
    "#np.shape(rmv_climo.GEOdaily)"
   ]
  },
  {
   "cell_type": "code",
   "execution_count": 54,
   "metadata": {},
   "outputs": [
    {
     "data": {
      "text/plain": [
       "(5002, 12)"
      ]
     },
     "execution_count": 54,
     "metadata": {},
     "output_type": "execute_result"
    }
   ],
   "source": [
    "rmm = pd.read_csv('/data/asoria/rmm.csv')\n",
    "#1/1/1979,12/31/2019\n",
    "rmm_daily=rmm[1675:16650]\n",
    "mon = [3,4,5,6]\n",
    "rmm_daily_spring = rmm_daily[rmm_daily.month.isin(mon)]\n",
    "np.shape(rmm_daily_spring)"
   ]
  },
  {
   "cell_type": "code",
   "execution_count": 55,
   "metadata": {},
   "outputs": [],
   "source": [
    "phase_spring=rmm_daily_spring['phase']\n",
    "amp_spring=rmm_daily_spring['amplitude']"
   ]
  },
  {
   "cell_type": "code",
   "execution_count": 56,
   "metadata": {},
   "outputs": [],
   "source": [
    "strong_amp=spring_array[amp_spring>=1]"
   ]
  },
  {
   "cell_type": "code",
   "execution_count": 57,
   "metadata": {},
   "outputs": [
    {
     "data": {
      "text/html": [
       "<div><svg style=\"position: absolute; width: 0; height: 0; overflow: hidden\">\n",
       "<defs>\n",
       "<symbol id=\"icon-database\" viewBox=\"0 0 32 32\">\n",
       "<path d=\"M16 0c-8.837 0-16 2.239-16 5v4c0 2.761 7.163 5 16 5s16-2.239 16-5v-4c0-2.761-7.163-5-16-5z\"></path>\n",
       "<path d=\"M16 17c-8.837 0-16-2.239-16-5v6c0 2.761 7.163 5 16 5s16-2.239 16-5v-6c0 2.761-7.163 5-16 5z\"></path>\n",
       "<path d=\"M16 26c-8.837 0-16-2.239-16-5v6c0 2.761 7.163 5 16 5s16-2.239 16-5v-6c0 2.761-7.163 5-16 5z\"></path>\n",
       "</symbol>\n",
       "<symbol id=\"icon-file-text2\" viewBox=\"0 0 32 32\">\n",
       "<path d=\"M28.681 7.159c-0.694-0.947-1.662-2.053-2.724-3.116s-2.169-2.030-3.116-2.724c-1.612-1.182-2.393-1.319-2.841-1.319h-15.5c-1.378 0-2.5 1.121-2.5 2.5v27c0 1.378 1.122 2.5 2.5 2.5h23c1.378 0 2.5-1.122 2.5-2.5v-19.5c0-0.448-0.137-1.23-1.319-2.841zM24.543 5.457c0.959 0.959 1.712 1.825 2.268 2.543h-4.811v-4.811c0.718 0.556 1.584 1.309 2.543 2.268zM28 29.5c0 0.271-0.229 0.5-0.5 0.5h-23c-0.271 0-0.5-0.229-0.5-0.5v-27c0-0.271 0.229-0.5 0.5-0.5 0 0 15.499-0 15.5 0v7c0 0.552 0.448 1 1 1h7v19.5z\"></path>\n",
       "<path d=\"M23 26h-14c-0.552 0-1-0.448-1-1s0.448-1 1-1h14c0.552 0 1 0.448 1 1s-0.448 1-1 1z\"></path>\n",
       "<path d=\"M23 22h-14c-0.552 0-1-0.448-1-1s0.448-1 1-1h14c0.552 0 1 0.448 1 1s-0.448 1-1 1z\"></path>\n",
       "<path d=\"M23 18h-14c-0.552 0-1-0.448-1-1s0.448-1 1-1h14c0.552 0 1 0.448 1 1s-0.448 1-1 1z\"></path>\n",
       "</symbol>\n",
       "</defs>\n",
       "</svg>\n",
       "<style>/* CSS stylesheet for displaying xarray objects in jupyterlab.\n",
       " *\n",
       " */\n",
       "\n",
       ":root {\n",
       "  --xr-font-color0: var(--jp-content-font-color0, rgba(0, 0, 0, 1));\n",
       "  --xr-font-color2: var(--jp-content-font-color2, rgba(0, 0, 0, 0.54));\n",
       "  --xr-font-color3: var(--jp-content-font-color3, rgba(0, 0, 0, 0.38));\n",
       "  --xr-border-color: var(--jp-border-color2, #e0e0e0);\n",
       "  --xr-disabled-color: var(--jp-layout-color3, #bdbdbd);\n",
       "  --xr-background-color: var(--jp-layout-color0, white);\n",
       "  --xr-background-color-row-even: var(--jp-layout-color1, white);\n",
       "  --xr-background-color-row-odd: var(--jp-layout-color2, #eeeeee);\n",
       "}\n",
       "\n",
       "html[theme=dark],\n",
       "body.vscode-dark {\n",
       "  --xr-font-color0: rgba(255, 255, 255, 1);\n",
       "  --xr-font-color2: rgba(255, 255, 255, 0.54);\n",
       "  --xr-font-color3: rgba(255, 255, 255, 0.38);\n",
       "  --xr-border-color: #1F1F1F;\n",
       "  --xr-disabled-color: #515151;\n",
       "  --xr-background-color: #111111;\n",
       "  --xr-background-color-row-even: #111111;\n",
       "  --xr-background-color-row-odd: #313131;\n",
       "}\n",
       "\n",
       ".xr-wrap {\n",
       "  display: block;\n",
       "  min-width: 300px;\n",
       "  max-width: 700px;\n",
       "}\n",
       "\n",
       ".xr-text-repr-fallback {\n",
       "  /* fallback to plain text repr when CSS is not injected (untrusted notebook) */\n",
       "  display: none;\n",
       "}\n",
       "\n",
       ".xr-header {\n",
       "  padding-top: 6px;\n",
       "  padding-bottom: 6px;\n",
       "  margin-bottom: 4px;\n",
       "  border-bottom: solid 1px var(--xr-border-color);\n",
       "}\n",
       "\n",
       ".xr-header > div,\n",
       ".xr-header > ul {\n",
       "  display: inline;\n",
       "  margin-top: 0;\n",
       "  margin-bottom: 0;\n",
       "}\n",
       "\n",
       ".xr-obj-type,\n",
       ".xr-array-name {\n",
       "  margin-left: 2px;\n",
       "  margin-right: 10px;\n",
       "}\n",
       "\n",
       ".xr-obj-type {\n",
       "  color: var(--xr-font-color2);\n",
       "}\n",
       "\n",
       ".xr-sections {\n",
       "  padding-left: 0 !important;\n",
       "  display: grid;\n",
       "  grid-template-columns: 150px auto auto 1fr 20px 20px;\n",
       "}\n",
       "\n",
       ".xr-section-item {\n",
       "  display: contents;\n",
       "}\n",
       "\n",
       ".xr-section-item input {\n",
       "  display: none;\n",
       "}\n",
       "\n",
       ".xr-section-item input + label {\n",
       "  color: var(--xr-disabled-color);\n",
       "}\n",
       "\n",
       ".xr-section-item input:enabled + label {\n",
       "  cursor: pointer;\n",
       "  color: var(--xr-font-color2);\n",
       "}\n",
       "\n",
       ".xr-section-item input:enabled + label:hover {\n",
       "  color: var(--xr-font-color0);\n",
       "}\n",
       "\n",
       ".xr-section-summary {\n",
       "  grid-column: 1;\n",
       "  color: var(--xr-font-color2);\n",
       "  font-weight: 500;\n",
       "}\n",
       "\n",
       ".xr-section-summary > span {\n",
       "  display: inline-block;\n",
       "  padding-left: 0.5em;\n",
       "}\n",
       "\n",
       ".xr-section-summary-in:disabled + label {\n",
       "  color: var(--xr-font-color2);\n",
       "}\n",
       "\n",
       ".xr-section-summary-in + label:before {\n",
       "  display: inline-block;\n",
       "  content: '►';\n",
       "  font-size: 11px;\n",
       "  width: 15px;\n",
       "  text-align: center;\n",
       "}\n",
       "\n",
       ".xr-section-summary-in:disabled + label:before {\n",
       "  color: var(--xr-disabled-color);\n",
       "}\n",
       "\n",
       ".xr-section-summary-in:checked + label:before {\n",
       "  content: '▼';\n",
       "}\n",
       "\n",
       ".xr-section-summary-in:checked + label > span {\n",
       "  display: none;\n",
       "}\n",
       "\n",
       ".xr-section-summary,\n",
       ".xr-section-inline-details {\n",
       "  padding-top: 4px;\n",
       "  padding-bottom: 4px;\n",
       "}\n",
       "\n",
       ".xr-section-inline-details {\n",
       "  grid-column: 2 / -1;\n",
       "}\n",
       "\n",
       ".xr-section-details {\n",
       "  display: none;\n",
       "  grid-column: 1 / -1;\n",
       "  margin-bottom: 5px;\n",
       "}\n",
       "\n",
       ".xr-section-summary-in:checked ~ .xr-section-details {\n",
       "  display: contents;\n",
       "}\n",
       "\n",
       ".xr-array-wrap {\n",
       "  grid-column: 1 / -1;\n",
       "  display: grid;\n",
       "  grid-template-columns: 20px auto;\n",
       "}\n",
       "\n",
       ".xr-array-wrap > label {\n",
       "  grid-column: 1;\n",
       "  vertical-align: top;\n",
       "}\n",
       "\n",
       ".xr-preview {\n",
       "  color: var(--xr-font-color3);\n",
       "}\n",
       "\n",
       ".xr-array-preview,\n",
       ".xr-array-data {\n",
       "  padding: 0 5px !important;\n",
       "  grid-column: 2;\n",
       "}\n",
       "\n",
       ".xr-array-data,\n",
       ".xr-array-in:checked ~ .xr-array-preview {\n",
       "  display: none;\n",
       "}\n",
       "\n",
       ".xr-array-in:checked ~ .xr-array-data,\n",
       ".xr-array-preview {\n",
       "  display: inline-block;\n",
       "}\n",
       "\n",
       ".xr-dim-list {\n",
       "  display: inline-block !important;\n",
       "  list-style: none;\n",
       "  padding: 0 !important;\n",
       "  margin: 0;\n",
       "}\n",
       "\n",
       ".xr-dim-list li {\n",
       "  display: inline-block;\n",
       "  padding: 0;\n",
       "  margin: 0;\n",
       "}\n",
       "\n",
       ".xr-dim-list:before {\n",
       "  content: '(';\n",
       "}\n",
       "\n",
       ".xr-dim-list:after {\n",
       "  content: ')';\n",
       "}\n",
       "\n",
       ".xr-dim-list li:not(:last-child):after {\n",
       "  content: ',';\n",
       "  padding-right: 5px;\n",
       "}\n",
       "\n",
       ".xr-has-index {\n",
       "  font-weight: bold;\n",
       "}\n",
       "\n",
       ".xr-var-list,\n",
       ".xr-var-item {\n",
       "  display: contents;\n",
       "}\n",
       "\n",
       ".xr-var-item > div,\n",
       ".xr-var-item label,\n",
       ".xr-var-item > .xr-var-name span {\n",
       "  background-color: var(--xr-background-color-row-even);\n",
       "  margin-bottom: 0;\n",
       "}\n",
       "\n",
       ".xr-var-item > .xr-var-name:hover span {\n",
       "  padding-right: 5px;\n",
       "}\n",
       "\n",
       ".xr-var-list > li:nth-child(odd) > div,\n",
       ".xr-var-list > li:nth-child(odd) > label,\n",
       ".xr-var-list > li:nth-child(odd) > .xr-var-name span {\n",
       "  background-color: var(--xr-background-color-row-odd);\n",
       "}\n",
       "\n",
       ".xr-var-name {\n",
       "  grid-column: 1;\n",
       "}\n",
       "\n",
       ".xr-var-dims {\n",
       "  grid-column: 2;\n",
       "}\n",
       "\n",
       ".xr-var-dtype {\n",
       "  grid-column: 3;\n",
       "  text-align: right;\n",
       "  color: var(--xr-font-color2);\n",
       "}\n",
       "\n",
       ".xr-var-preview {\n",
       "  grid-column: 4;\n",
       "}\n",
       "\n",
       ".xr-var-name,\n",
       ".xr-var-dims,\n",
       ".xr-var-dtype,\n",
       ".xr-preview,\n",
       ".xr-attrs dt {\n",
       "  white-space: nowrap;\n",
       "  overflow: hidden;\n",
       "  text-overflow: ellipsis;\n",
       "  padding-right: 10px;\n",
       "}\n",
       "\n",
       ".xr-var-name:hover,\n",
       ".xr-var-dims:hover,\n",
       ".xr-var-dtype:hover,\n",
       ".xr-attrs dt:hover {\n",
       "  overflow: visible;\n",
       "  width: auto;\n",
       "  z-index: 1;\n",
       "}\n",
       "\n",
       ".xr-var-attrs,\n",
       ".xr-var-data {\n",
       "  display: none;\n",
       "  background-color: var(--xr-background-color) !important;\n",
       "  padding-bottom: 5px !important;\n",
       "}\n",
       "\n",
       ".xr-var-attrs-in:checked ~ .xr-var-attrs,\n",
       ".xr-var-data-in:checked ~ .xr-var-data {\n",
       "  display: block;\n",
       "}\n",
       "\n",
       ".xr-var-data > table {\n",
       "  float: right;\n",
       "}\n",
       "\n",
       ".xr-var-name span,\n",
       ".xr-var-data,\n",
       ".xr-attrs {\n",
       "  padding-left: 25px !important;\n",
       "}\n",
       "\n",
       ".xr-attrs,\n",
       ".xr-var-attrs,\n",
       ".xr-var-data {\n",
       "  grid-column: 1 / -1;\n",
       "}\n",
       "\n",
       "dl.xr-attrs {\n",
       "  padding: 0;\n",
       "  margin: 0;\n",
       "  display: grid;\n",
       "  grid-template-columns: 125px auto;\n",
       "}\n",
       "\n",
       ".xr-attrs dt, dd {\n",
       "  padding: 0;\n",
       "  margin: 0;\n",
       "  float: left;\n",
       "  padding-right: 10px;\n",
       "  width: auto;\n",
       "}\n",
       "\n",
       ".xr-attrs dt {\n",
       "  font-weight: normal;\n",
       "  grid-column: 1;\n",
       "}\n",
       "\n",
       ".xr-attrs dt:hover span {\n",
       "  display: inline-block;\n",
       "  background: var(--xr-background-color);\n",
       "  padding-right: 10px;\n",
       "}\n",
       "\n",
       ".xr-attrs dd {\n",
       "  grid-column: 2;\n",
       "  white-space: pre-wrap;\n",
       "  word-break: break-all;\n",
       "}\n",
       "\n",
       ".xr-icon-database,\n",
       ".xr-icon-file-text2 {\n",
       "  display: inline-block;\n",
       "  vertical-align: middle;\n",
       "  width: 1em;\n",
       "  height: 1.5em !important;\n",
       "  stroke-width: 0;\n",
       "  stroke: currentColor;\n",
       "  fill: currentColor;\n",
       "}\n",
       "</style><pre class='xr-text-repr-fallback'>&lt;xarray.Dataset&gt;\n",
       "Dimensions:    (lat: 91, lon: 360, time_da: 5002)\n",
       "Coordinates:\n",
       "  * time_da    (time_da) datetime64[ns] 1979-03-01 1979-03-02 ... 2019-06-30\n",
       "  * lat        (lat) float32 0.0 1.0 2.0 3.0 4.0 ... 86.0 87.0 88.0 89.0 90.0\n",
       "  * lon        (lon) float32 0.0 1.0 2.0 3.0 4.0 ... 356.0 357.0 358.0 359.0\n",
       "Data variables:\n",
       "    hgt500     (time_da, lat, lon) float64 -1.35 -2.343 -2.683 ... 251.1 251.1\n",
       "    phase      (time_da) int64 4 4 4 4 4 4 4 4 4 5 5 5 ... 6 6 6 7 7 7 7 7 7 7 7\n",
       "    amplitude  (time_da) float64 0.8875 0.8429 1.111 ... 0.999 0.9364 0.9614</pre><div class='xr-wrap' hidden><div class='xr-header'><div class='xr-obj-type'>xarray.Dataset</div></div><ul class='xr-sections'><li class='xr-section-item'><input id='section-73de4e12-2048-4a58-8128-67f74386f8c2' class='xr-section-summary-in' type='checkbox' disabled ><label for='section-73de4e12-2048-4a58-8128-67f74386f8c2' class='xr-section-summary'  title='Expand/collapse section'>Dimensions:</label><div class='xr-section-inline-details'><ul class='xr-dim-list'><li><span class='xr-has-index'>lat</span>: 91</li><li><span class='xr-has-index'>lon</span>: 360</li><li><span class='xr-has-index'>time_da</span>: 5002</li></ul></div><div class='xr-section-details'></div></li><li class='xr-section-item'><input id='section-ae4af616-d54d-4aaf-a978-e11f0db8ee35' class='xr-section-summary-in' type='checkbox'  checked><label for='section-ae4af616-d54d-4aaf-a978-e11f0db8ee35' class='xr-section-summary' >Coordinates: <span>(3)</span></label><div class='xr-section-inline-details'></div><div class='xr-section-details'><ul class='xr-var-list'><li class='xr-var-item'><div class='xr-var-name'><span class='xr-has-index'>time_da</span></div><div class='xr-var-dims'>(time_da)</div><div class='xr-var-dtype'>datetime64[ns]</div><div class='xr-var-preview xr-preview'>1979-03-01 ... 2019-06-30</div><input id='attrs-38e182f0-6696-4561-b596-58d99a660f93' class='xr-var-attrs-in' type='checkbox' disabled><label for='attrs-38e182f0-6696-4561-b596-58d99a660f93' title='Show/Hide attributes'><svg class='icon xr-icon-file-text2'><use xlink:href='#icon-file-text2'></use></svg></label><input id='data-3e6c21a0-325e-4490-99da-d9cba6b2086c' class='xr-var-data-in' type='checkbox'><label for='data-3e6c21a0-325e-4490-99da-d9cba6b2086c' title='Show/Hide data repr'><svg class='icon xr-icon-database'><use xlink:href='#icon-database'></use></svg></label><div class='xr-var-attrs'><dl class='xr-attrs'></dl></div><div class='xr-var-data'><pre>array([&#x27;1979-03-01T00:00:00.000000000&#x27;, &#x27;1979-03-02T00:00:00.000000000&#x27;,\n",
       "       &#x27;1979-03-03T00:00:00.000000000&#x27;, ..., &#x27;2019-06-28T00:00:00.000000000&#x27;,\n",
       "       &#x27;2019-06-29T00:00:00.000000000&#x27;, &#x27;2019-06-30T00:00:00.000000000&#x27;],\n",
       "      dtype=&#x27;datetime64[ns]&#x27;)</pre></div></li><li class='xr-var-item'><div class='xr-var-name'><span class='xr-has-index'>lat</span></div><div class='xr-var-dims'>(lat)</div><div class='xr-var-dtype'>float32</div><div class='xr-var-preview xr-preview'>0.0 1.0 2.0 3.0 ... 88.0 89.0 90.0</div><input id='attrs-f229c04c-dce2-4d6a-a2fd-b1f914e60f35' class='xr-var-attrs-in' type='checkbox' ><label for='attrs-f229c04c-dce2-4d6a-a2fd-b1f914e60f35' title='Show/Hide attributes'><svg class='icon xr-icon-file-text2'><use xlink:href='#icon-file-text2'></use></svg></label><input id='data-4a34a6eb-9c09-4883-9923-d246b60531dd' class='xr-var-data-in' type='checkbox'><label for='data-4a34a6eb-9c09-4883-9923-d246b60531dd' title='Show/Hide data repr'><svg class='icon xr-icon-database'><use xlink:href='#icon-database'></use></svg></label><div class='xr-var-attrs'><dl class='xr-attrs'><dt><span>units :</span></dt><dd>degrees_north</dd></dl></div><div class='xr-var-data'><pre>array([ 0.,  1.,  2.,  3.,  4.,  5.,  6.,  7.,  8.,  9., 10., 11., 12., 13.,\n",
       "       14., 15., 16., 17., 18., 19., 20., 21., 22., 23., 24., 25., 26., 27.,\n",
       "       28., 29., 30., 31., 32., 33., 34., 35., 36., 37., 38., 39., 40., 41.,\n",
       "       42., 43., 44., 45., 46., 47., 48., 49., 50., 51., 52., 53., 54., 55.,\n",
       "       56., 57., 58., 59., 60., 61., 62., 63., 64., 65., 66., 67., 68., 69.,\n",
       "       70., 71., 72., 73., 74., 75., 76., 77., 78., 79., 80., 81., 82., 83.,\n",
       "       84., 85., 86., 87., 88., 89., 90.], dtype=float32)</pre></div></li><li class='xr-var-item'><div class='xr-var-name'><span class='xr-has-index'>lon</span></div><div class='xr-var-dims'>(lon)</div><div class='xr-var-dtype'>float32</div><div class='xr-var-preview xr-preview'>0.0 1.0 2.0 ... 357.0 358.0 359.0</div><input id='attrs-6115323d-4814-4676-a14e-87a7305ffdb1' class='xr-var-attrs-in' type='checkbox' ><label for='attrs-6115323d-4814-4676-a14e-87a7305ffdb1' title='Show/Hide attributes'><svg class='icon xr-icon-file-text2'><use xlink:href='#icon-file-text2'></use></svg></label><input id='data-903e4360-ec94-46d0-ad5c-df110fd10df9' class='xr-var-data-in' type='checkbox'><label for='data-903e4360-ec94-46d0-ad5c-df110fd10df9' title='Show/Hide data repr'><svg class='icon xr-icon-database'><use xlink:href='#icon-database'></use></svg></label><div class='xr-var-attrs'><dl class='xr-attrs'><dt><span>units :</span></dt><dd>degrees_east</dd></dl></div><div class='xr-var-data'><pre>array([  0.,   1.,   2., ..., 357., 358., 359.], dtype=float32)</pre></div></li></ul></div></li><li class='xr-section-item'><input id='section-890dbc0a-4e26-486a-b904-7ad59a0d16cf' class='xr-section-summary-in' type='checkbox'  checked><label for='section-890dbc0a-4e26-486a-b904-7ad59a0d16cf' class='xr-section-summary' >Data variables: <span>(3)</span></label><div class='xr-section-inline-details'></div><div class='xr-section-details'><ul class='xr-var-list'><li class='xr-var-item'><div class='xr-var-name'><span>hgt500</span></div><div class='xr-var-dims'>(time_da, lat, lon)</div><div class='xr-var-dtype'>float64</div><div class='xr-var-preview xr-preview'>-1.35 -2.343 -2.683 ... 251.1 251.1</div><input id='attrs-53e636e9-8420-44f2-9df6-57841afb8e24' class='xr-var-attrs-in' type='checkbox' disabled><label for='attrs-53e636e9-8420-44f2-9df6-57841afb8e24' title='Show/Hide attributes'><svg class='icon xr-icon-file-text2'><use xlink:href='#icon-file-text2'></use></svg></label><input id='data-9faf848d-9aa4-4da2-8ba7-7ab0bb83b770' class='xr-var-data-in' type='checkbox'><label for='data-9faf848d-9aa4-4da2-8ba7-7ab0bb83b770' title='Show/Hide data repr'><svg class='icon xr-icon-database'><use xlink:href='#icon-database'></use></svg></label><div class='xr-var-attrs'><dl class='xr-attrs'></dl></div><div class='xr-var-data'><pre>array([[[-1.35032393e+00, -2.34264244e+00, -2.68296256e+00, ...,\n",
       "         -6.50902725e-01, -1.56371475e+00, -1.84042731e+00],\n",
       "        [-1.38400343e+00, -2.15921542e+00, -2.59996665e+00, ...,\n",
       "         -1.79461223e+00, -2.71499857e+00, -7.47534775e-01],\n",
       "        [-1.57355183e+00, -2.44789682e+00, -3.14512671e+00, ...,\n",
       "         -1.41091845e+00, -1.96259289e+00, -1.31579888e+00],\n",
       "        ...,\n",
       "        [-1.19150331e+02, -1.18300817e+02, -1.17473669e+02, ...,\n",
       "         -1.21824219e+02, -1.20910918e+02, -1.20020591e+02],\n",
       "        [-1.40946408e+02, -1.40490627e+02, -1.40034525e+02, ...,\n",
       "         -1.42387207e+02, -1.41892185e+02, -1.41425722e+02],\n",
       "        [-1.54302425e+02, -1.54302425e+02, -1.54302425e+02, ...,\n",
       "         -1.54302425e+02, -1.54302425e+02, -1.54302425e+02]],\n",
       "\n",
       "       [[ 1.88991044e+00,  2.28870522e+00,  1.93568979e+00, ...,\n",
       "          1.14108946e+00,  9.71441502e-01,  8.91018007e-01],\n",
       "        [ 1.20535204e+00,  1.66793302e+00,  8.25326315e-01, ...,\n",
       "          4.06071361e-01,  2.47475229e-02, -1.37671494e-01],\n",
       "        [-4.74430736e-01,  2.93314120e-01, -1.82236090e-01, ...,\n",
       "         -2.55156726e-01, -4.36225705e-01, -7.44021532e-01],\n",
       "...\n",
       "        [ 2.20731981e+02,  2.20102075e+02,  2.19490925e+02, ...,\n",
       "          2.22588843e+02,  2.21964082e+02,  2.21341594e+02],\n",
       "        [ 2.31900998e+02,  2.31628085e+02,  2.31347811e+02, ...,\n",
       "          2.32763207e+02,  2.32480147e+02,  2.32193526e+02],\n",
       "        [ 2.40311476e+02,  2.40311476e+02,  2.40311476e+02, ...,\n",
       "          2.40311476e+02,  2.40311476e+02,  2.40311476e+02]],\n",
       "\n",
       "       [[ 1.84185285e+01,  1.81030035e+01,  1.74565430e+01, ...,\n",
       "          1.73712486e+01,  1.76699100e+01,  1.81420422e+01],\n",
       "        [ 1.78939120e+01,  1.76993021e+01,  1.77824052e+01, ...,\n",
       "          1.75124214e+01,  1.75973228e+01,  1.74596751e+01],\n",
       "        [ 1.82189763e+01,  1.84004859e+01,  1.89962724e+01, ...,\n",
       "          1.71432093e+01,  1.72759623e+01,  1.74854468e+01],\n",
       "        ...,\n",
       "        [ 2.33414110e+02,  2.32894067e+02,  2.32352253e+02, ...,\n",
       "          2.35073218e+02,  2.34530000e+02,  2.33970989e+02],\n",
       "        [ 2.44974240e+02,  2.44752596e+02,  2.44542147e+02, ...,\n",
       "          2.45662133e+02,  2.45431319e+02,  2.45207686e+02],\n",
       "        [ 2.51124464e+02,  2.51124464e+02,  2.51124464e+02, ...,\n",
       "          2.51124464e+02,  2.51124464e+02,  2.51124464e+02]]])</pre></div></li><li class='xr-var-item'><div class='xr-var-name'><span>phase</span></div><div class='xr-var-dims'>(time_da)</div><div class='xr-var-dtype'>int64</div><div class='xr-var-preview xr-preview'>4 4 4 4 4 4 4 4 ... 7 7 7 7 7 7 7 7</div><input id='attrs-08261988-cd9c-40a5-8a37-f2ca3b194cd1' class='xr-var-attrs-in' type='checkbox' disabled><label for='attrs-08261988-cd9c-40a5-8a37-f2ca3b194cd1' title='Show/Hide attributes'><svg class='icon xr-icon-file-text2'><use xlink:href='#icon-file-text2'></use></svg></label><input id='data-693dd66e-b421-4991-a0ea-cc340e67774a' class='xr-var-data-in' type='checkbox'><label for='data-693dd66e-b421-4991-a0ea-cc340e67774a' title='Show/Hide data repr'><svg class='icon xr-icon-database'><use xlink:href='#icon-database'></use></svg></label><div class='xr-var-attrs'><dl class='xr-attrs'></dl></div><div class='xr-var-data'><pre>array([4, 4, 4, ..., 7, 7, 7])</pre></div></li><li class='xr-var-item'><div class='xr-var-name'><span>amplitude</span></div><div class='xr-var-dims'>(time_da)</div><div class='xr-var-dtype'>float64</div><div class='xr-var-preview xr-preview'>0.8875 0.8429 ... 0.9364 0.9614</div><input id='attrs-b37a7c86-3af6-4360-887b-ff2f9570cf76' class='xr-var-attrs-in' type='checkbox' disabled><label for='attrs-b37a7c86-3af6-4360-887b-ff2f9570cf76' title='Show/Hide attributes'><svg class='icon xr-icon-file-text2'><use xlink:href='#icon-file-text2'></use></svg></label><input id='data-d1393f8a-0fc6-4416-9786-8ed55547f954' class='xr-var-data-in' type='checkbox'><label for='data-d1393f8a-0fc6-4416-9786-8ed55547f954' title='Show/Hide data repr'><svg class='icon xr-icon-database'><use xlink:href='#icon-database'></use></svg></label><div class='xr-var-attrs'><dl class='xr-attrs'></dl></div><div class='xr-var-data'><pre>array([0.88751501, 0.84288198, 1.1111799 , ..., 0.99903858, 0.9363752 ,\n",
       "       0.96144885])</pre></div></li></ul></div></li><li class='xr-section-item'><input id='section-8def073b-c51c-4fad-a284-09e40f8da499' class='xr-section-summary-in' type='checkbox' disabled ><label for='section-8def073b-c51c-4fad-a284-09e40f8da499' class='xr-section-summary'  title='Expand/collapse section'>Attributes: <span>(0)</span></label><div class='xr-section-inline-details'></div><div class='xr-section-details'><dl class='xr-attrs'></dl></div></li></ul></div></div>"
      ],
      "text/plain": [
       "<xarray.Dataset>\n",
       "Dimensions:    (lat: 91, lon: 360, time_da: 5002)\n",
       "Coordinates:\n",
       "  * time_da    (time_da) datetime64[ns] 1979-03-01 1979-03-02 ... 2019-06-30\n",
       "  * lat        (lat) float32 0.0 1.0 2.0 3.0 4.0 ... 86.0 87.0 88.0 89.0 90.0\n",
       "  * lon        (lon) float32 0.0 1.0 2.0 3.0 4.0 ... 356.0 357.0 358.0 359.0\n",
       "Data variables:\n",
       "    hgt500     (time_da, lat, lon) float64 -1.35 -2.343 -2.683 ... 251.1 251.1\n",
       "    phase      (time_da) int64 4 4 4 4 4 4 4 4 4 5 5 5 ... 6 6 6 7 7 7 7 7 7 7 7\n",
       "    amplitude  (time_da) float64 0.8875 0.8429 1.111 ... 0.999 0.9364 0.9614"
      ]
     },
     "execution_count": 57,
     "metadata": {},
     "output_type": "execute_result"
    }
   ],
   "source": [
    "#create new hgt500 array\n",
    "spring_hgt500_array = xr.Dataset({\n",
    "    'hgt500': xr.DataArray(\n",
    "                data   = spring_array,\n",
    "                dims   = ['time_da','lat','lon'],\n",
    "                coords = {'time_da': spring_months, 'lat': lat, 'lon': lon}),\n",
    "    'phase': xr.DataArray(\n",
    "                data   = phase_spring,\n",
    "                dims   = ['time_da'],\n",
    "                coords = {'time_da': spring_months}),\n",
    "    'amplitude': xr.DataArray(\n",
    "                data   = amp_spring,\n",
    "                dims   = ['time_da'],\n",
    "                coords = {'time_da': spring_months})})\n",
    "spring_hgt500_array"
   ]
  },
  {
   "cell_type": "code",
   "execution_count": 58,
   "metadata": {},
   "outputs": [],
   "source": [
    "hgt500_var = spring_hgt500_array['hgt500']\n",
    "amp_var=spring_hgt500_array['amplitude']\n",
    "phase_var=spring_hgt500_array['phase']"
   ]
  },
  {
   "cell_type": "code",
   "execution_count": 59,
   "metadata": {},
   "outputs": [
    {
     "data": {
      "text/plain": [
       "(3166, 91, 360)"
      ]
     },
     "execution_count": 59,
     "metadata": {},
     "output_type": "execute_result"
    }
   ],
   "source": [
    "#strong counts\n",
    "hgt500_gt1=hgt500_var[amp_var>=1.0]\n",
    "np.shape(hgt500_gt1)"
   ]
  },
  {
   "cell_type": "code",
   "execution_count": 60,
   "metadata": {},
   "outputs": [],
   "source": [
    "#strong phase\n",
    "phase_gt1=phase_var[amp_var>=1.0]"
   ]
  },
  {
   "cell_type": "code",
   "execution_count": 61,
   "metadata": {},
   "outputs": [
    {
     "data": {
      "text/plain": [
       "(8, 91, 360)"
      ]
     },
     "execution_count": 61,
     "metadata": {},
     "output_type": "execute_result"
    }
   ],
   "source": [
    "#h\n",
    "hgt500_gt1_grouped=hgt500_gt1.groupby(phase_gt1).mean()\n",
    "np.shape(hgt500_gt1_grouped)"
   ]
  },
  {
   "cell_type": "code",
   "execution_count": 62,
   "metadata": {},
   "outputs": [
    {
     "data": {
      "text/plain": [
       "(8, 91, 360)"
      ]
     },
     "execution_count": 62,
     "metadata": {},
     "output_type": "execute_result"
    }
   ],
   "source": [
    "#strong counts mean\n",
    "#hgt500_gt1_mean = np.mean(hgt500_gt1,axis=0)\n",
    "#h_Std\n",
    "hgt500_gt1_grouped_std = hgt500_gt1.groupby(phase_gt1).std()\n",
    "#hgt500_gt1_std = np.std(hgt500_gt1,axis=0)\n",
    "np.shape(hgt500_gt1_grouped_std)"
   ]
  },
  {
   "cell_type": "code",
   "execution_count": 63,
   "metadata": {},
   "outputs": [],
   "source": [
    "#phase_num = 8\n",
    "#N = len(phase_gt1[phase_gt1==phase_num])\n",
    "#sample_mean = hgt500_gt1_mean\n",
    "#sample_std = hgt500_gt1_grouped_std[phase_num-1,:,:]\n",
    "#population_mean = 0\n",
    "#t_score = (sample_mean-population_mean)/(sample_std/(np.sqrt(N-1)))\n",
    "#df = N-2\n",
    "#t_crit = stats.t.ppf(0.975,df)\n",
    "#print(np.shape(t_score))"
   ]
  },
  {
   "cell_type": "code",
   "execution_count": 64,
   "metadata": {},
   "outputs": [],
   "source": [
    "longitude_mesh, latitude_mesh = np.meshgrid(lon[:],lat[:])\n",
    "#longitude_mesh, latitude_mesh = np.meshgrid(lon[::10],lat[::10])"
   ]
  },
  {
   "cell_type": "code",
   "execution_count": 65,
   "metadata": {},
   "outputs": [
    {
     "data": {
      "image/png": "[encoded data removed]",
      "text/plain": [
       "<Figure size 432x288 with 2 Axes>"
      ]
     },
     "metadata": {
      "needs_background": "light"
     },
     "output_type": "display_data"
    }
   ],
   "source": [
    "myvar = hgt500_gt1_grouped.sel(phase=1)\n",
    "mylat = lat\n",
    "mylon = lon\n",
    "\n",
    "ax = plt.axes(projection=ccrs.PlateCarree(central_longitude=180))\n",
    "ax.set_extent([110, 300, 5, 120], crs=ccrs.PlateCarree())\n",
    "\n",
    "ax.coastlines(linewidth=1, color='k')\n",
    "\n",
    "plt.contourf(mylon, mylat, myvar, transform=ccrs.PlateCarree())\n",
    "plt.colorbar(orientation='vertical', shrink = 0.6)\n",
    "ax.coastlines()\n",
    "ax.set_title('Phase 1')\n",
    "plt.show()"
   ]
  },
  {
   "cell_type": "code",
   "execution_count": 66,
   "metadata": {},
   "outputs": [
    {
     "data": {
      "image/png": "[encoded data removed]",
      "text/plain": [
       "<Figure size 432x288 with 2 Axes>"
      ]
     },
     "metadata": {
      "needs_background": "light"
     },
     "output_type": "display_data"
    }
   ],
   "source": [
    "myvar = hgt500_gt1_grouped.sel(phase=2)\n",
    "mylat = lat\n",
    "mylon = lon\n",
    "\n",
    "ax = plt.axes(projection=ccrs.PlateCarree(central_longitude=180))\n",
    "ax.set_extent([110, 300, 5, 120], crs=ccrs.PlateCarree())\n",
    "\n",
    "ax.coastlines(linewidth=1, color='k')\n",
    "\n",
    "plt.contourf(mylon, mylat, myvar, transform=ccrs.PlateCarree())\n",
    "plt.colorbar(orientation='vertical', shrink = 0.6)\n",
    "ax.coastlines()\n",
    "ax.set_title('Phase 2')\n",
    "plt.show()"
   ]
  },
  {
   "cell_type": "code",
   "execution_count": 67,
   "metadata": {},
   "outputs": [
    {
     "data": {
      "image/png": "[encoded data removed]",
      "text/plain": [
       "<Figure size 432x288 with 2 Axes>"
      ]
     },
     "metadata": {
      "needs_background": "light"
     },
     "output_type": "display_data"
    }
   ],
   "source": [
    "myvar = hgt500_gt1_grouped.sel(phase=3)\n",
    "mylat = lat\n",
    "mylon = lon\n",
    "\n",
    "ax = plt.axes(projection=ccrs.PlateCarree(central_longitude=180))\n",
    "ax.set_extent([110, 300, 5, 120], crs=ccrs.PlateCarree())\n",
    "\n",
    "ax.coastlines(linewidth=1, color='k')\n",
    "\n",
    "plt.contourf(mylon, mylat, myvar, transform=ccrs.PlateCarree())\n",
    "plt.colorbar(orientation='vertical', shrink = 0.6)\n",
    "ax.coastlines()\n",
    "ax.set_title('Phase 3')\n",
    "plt.show()"
   ]
  },
  {
   "cell_type": "code",
   "execution_count": 68,
   "metadata": {},
   "outputs": [
    {
     "data": {
      "image/png": "[encoded data removed]",
      "text/plain": [
       "<Figure size 432x288 with 2 Axes>"
      ]
     },
     "metadata": {
      "needs_background": "light"
     },
     "output_type": "display_data"
    }
   ],
   "source": [
    "myvar = hgt500_gt1_grouped.sel(phase=4)\n",
    "mylat = lat\n",
    "mylon = lon\n",
    "\n",
    "ax = plt.axes(projection=ccrs.PlateCarree(central_longitude=180))\n",
    "ax.set_extent([110, 300, 5, 120], crs=ccrs.PlateCarree())\n",
    "\n",
    "ax.coastlines(linewidth=1, color='k')\n",
    "\n",
    "plt.contourf(mylon, mylat, myvar, transform=ccrs.PlateCarree())\n",
    "plt.colorbar(orientation='vertical', shrink = 0.6)\n",
    "ax.coastlines()\n",
    "ax.set_title('Phase 4')\n",
    "plt.show()"
   ]
  },
  {
   "cell_type": "code",
   "execution_count": 69,
   "metadata": {},
   "outputs": [
    {
     "data": {
      "image/png": "[encoded data removed]",
      "text/plain": [
       "<Figure size 432x288 with 2 Axes>"
      ]
     },
     "metadata": {
      "needs_background": "light"
     },
     "output_type": "display_data"
    }
   ],
   "source": [
    "myvar = hgt500_gt1_grouped.sel(phase=5)\n",
    "mylat = lat\n",
    "mylon = lon\n",
    "\n",
    "ax = plt.axes(projection=ccrs.PlateCarree(central_longitude=180))\n",
    "ax.set_extent([110, 300, 5, 120], crs=ccrs.PlateCarree())\n",
    "\n",
    "ax.coastlines(linewidth=1, color='k')\n",
    "\n",
    "plt.contourf(mylon, mylat, myvar, transform=ccrs.PlateCarree())\n",
    "plt.colorbar(orientation='vertical', shrink = 0.6)\n",
    "ax.coastlines()\n",
    "ax.set_title('Phase 5')\n",
    "plt.show()"
   ]
  },
  {
   "cell_type": "code",
   "execution_count": 70,
   "metadata": {},
   "outputs": [
    {
     "data": {
      "image/png": "[encoded data removed]",
      "text/plain": [
       "<Figure size 432x288 with 2 Axes>"
      ]
     },
     "metadata": {
      "needs_background": "light"
     },
     "output_type": "display_data"
    }
   ],
   "source": [
    "myvar = hgt500_gt1_grouped.sel(phase=6)\n",
    "mylat = lat\n",
    "mylon = lon\n",
    "\n",
    "ax = plt.axes(projection=ccrs.PlateCarree(central_longitude=180))\n",
    "ax.set_extent([110, 300, 5, 120], crs=ccrs.PlateCarree())\n",
    "\n",
    "ax.coastlines(linewidth=1, color='k')\n",
    "\n",
    "plt.contourf(mylon, mylat, myvar, transform=ccrs.PlateCarree())\n",
    "plt.colorbar(orientation='vertical', shrink = 0.6)\n",
    "ax.coastlines()\n",
    "ax.set_title('Phase 6')\n",
    "plt.show()"
   ]
  },
  {
   "cell_type": "code",
   "execution_count": 71,
   "metadata": {},
   "outputs": [
    {
     "data": {
      "image/png": "[encoded data removed]",
      "text/plain": [
       "<Figure size 432x288 with 2 Axes>"
      ]
     },
     "metadata": {
      "needs_background": "light"
     },
     "output_type": "display_data"
    }
   ],
   "source": [
    "myvar = hgt500_gt1_grouped.sel(phase=7)\n",
    "mylat = lat\n",
    "mylon = lon\n",
    "\n",
    "ax = plt.axes(projection=ccrs.PlateCarree(central_longitude=180))\n",
    "ax.set_extent([110, 300, 5, 120], crs=ccrs.PlateCarree())\n",
    "\n",
    "ax.coastlines(linewidth=1, color='k')\n",
    "\n",
    "plt.contourf(mylon, mylat, myvar, transform=ccrs.PlateCarree())\n",
    "plt.colorbar(orientation='vertical', shrink = 0.6)\n",
    "ax.coastlines()\n",
    "ax.set_title('Phase 7')\n",
    "plt.show()"
   ]
  },
  {
   "cell_type": "code",
   "execution_count": 72,
   "metadata": {},
   "outputs": [
    {
     "data": {
      "image/png": "[encoded data removed]",
      "text/plain": [
       "<Figure size 432x288 with 2 Axes>"
      ]
     },
     "metadata": {
      "needs_background": "light"
     },
     "output_type": "display_data"
    }
   ],
   "source": [
    "myvar = hgt500_gt1_grouped.sel(phase=8)\n",
    "mylat = lat\n",
    "mylon = lon\n",
    "\n",
    "ax = plt.axes(projection=ccrs.PlateCarree(central_longitude=180))\n",
    "ax.set_extent([110, 300, 5, 120], crs=ccrs.PlateCarree())\n",
    "\n",
    "ax.coastlines(linewidth=1, color='k')\n",
    "\n",
    "plt.contourf(mylon, mylat, myvar, transform=ccrs.PlateCarree())\n",
    "plt.colorbar(orientation='vertical', shrink = 0.6)\n",
    "ax.coastlines()\n",
    "ax.set_title('Phase 8')\n",
    "plt.show()"
   ]
  },
  {
   "cell_type": "code",
   "execution_count": 73,
   "metadata": {},
   "outputs": [
    {
     "ename": "FileNotFoundError",
     "evalue": "[Errno 2] No such file or directory: '/data/asoria/TRACK/500mb_composite/phase8.png'",
     "output_type": "error",
     "traceback": [
      "\u001b[0;31m-------------------------------------------------\u001b[0m",
      "\u001b[0;31mFileNotFoundError\u001b[0mTraceback (most recent call last)",
      "\u001b[0;32m<ipython-input-73-dad43dc53d3b>\u001b[0m in \u001b[0;36m<module>\u001b[0;34m\u001b[0m\n\u001b[1;32m     15\u001b[0m \u001b[0mcf\u001b[0m \u001b[0;34m=\u001b[0m \u001b[0max\u001b[0m\u001b[0;34m.\u001b[0m\u001b[0mcontourf\u001b[0m\u001b[0;34m(\u001b[0m\u001b[0mmylon\u001b[0m\u001b[0;34m,\u001b[0m\u001b[0mmylat\u001b[0m\u001b[0;34m,\u001b[0m\u001b[0mmyvar\u001b[0m\u001b[0;34m,\u001b[0m \u001b[0mtransform\u001b[0m\u001b[0;34m=\u001b[0m\u001b[0mccrs\u001b[0m\u001b[0;34m.\u001b[0m\u001b[0mPlateCarree\u001b[0m\u001b[0;34m(\u001b[0m\u001b[0;34m)\u001b[0m\u001b[0;34m,\u001b[0m\u001b[0mlevels\u001b[0m\u001b[0;34m=\u001b[0m\u001b[0mlevels\u001b[0m\u001b[0;34m,\u001b[0m \u001b[0mcmap\u001b[0m\u001b[0;34m=\u001b[0m\u001b[0;34m'RdBu_r'\u001b[0m\u001b[0;34m)\u001b[0m\u001b[0;34m\u001b[0m\u001b[0;34m\u001b[0m\u001b[0m\n\u001b[1;32m     16\u001b[0m \u001b[0mplt\u001b[0m\u001b[0;34m.\u001b[0m\u001b[0mcolorbar\u001b[0m\u001b[0;34m(\u001b[0m\u001b[0mcf\u001b[0m\u001b[0;34m,\u001b[0m \u001b[0mshrink\u001b[0m\u001b[0;34m=\u001b[0m\u001b[0;36m1\u001b[0m\u001b[0;34m)\u001b[0m\u001b[0;34m\u001b[0m\u001b[0;34m\u001b[0m\u001b[0m\n\u001b[0;32m---> 17\u001b[0;31m \u001b[0mplt\u001b[0m\u001b[0;34m.\u001b[0m\u001b[0msavefig\u001b[0m\u001b[0;34m(\u001b[0m\u001b[0;34m'/data/asoria/TRACK/500mb_composite/phase8.png'\u001b[0m\u001b[0;34m,\u001b[0m\u001b[0mdpi\u001b[0m\u001b[0;34m=\u001b[0m\u001b[0;36m300\u001b[0m\u001b[0;34m)\u001b[0m\u001b[0;34m\u001b[0m\u001b[0;34m\u001b[0m\u001b[0m\n\u001b[0m",
      "\u001b[0;32m~/miniconda3/envs/cds/lib/python3.8/site-packages/matplotlib/pyplot.py\u001b[0m in \u001b[0;36msavefig\u001b[0;34m(*args, **kwargs)\u001b[0m\n\u001b[1;32m    857\u001b[0m \u001b[0;32mdef\u001b[0m \u001b[0msavefig\u001b[0m\u001b[0;34m(\u001b[0m\u001b[0;34m*\u001b[0m\u001b[0margs\u001b[0m\u001b[0;34m,\u001b[0m \u001b[0;34m**\u001b[0m\u001b[0mkwargs\u001b[0m\u001b[0;34m)\u001b[0m\u001b[0;34m:\u001b[0m\u001b[0;34m\u001b[0m\u001b[0;34m\u001b[0m\u001b[0m\n\u001b[1;32m    858\u001b[0m     \u001b[0mfig\u001b[0m \u001b[0;34m=\u001b[0m \u001b[0mgcf\u001b[0m\u001b[0;34m(\u001b[0m\u001b[0;34m)\u001b[0m\u001b[0;34m\u001b[0m\u001b[0;34m\u001b[0m\u001b[0m\n\u001b[0;32m--> 859\u001b[0;31m     \u001b[0mres\u001b[0m \u001b[0;34m=\u001b[0m \u001b[0mfig\u001b[0m\u001b[0;34m.\u001b[0m\u001b[0msavefig\u001b[0m\u001b[0;34m(\u001b[0m\u001b[0;34m*\u001b[0m\u001b[0margs\u001b[0m\u001b[0;34m,\u001b[0m \u001b[0;34m**\u001b[0m\u001b[0mkwargs\u001b[0m\u001b[0;34m)\u001b[0m\u001b[0;34m\u001b[0m\u001b[0;34m\u001b[0m\u001b[0m\n\u001b[0m\u001b[1;32m    860\u001b[0m     \u001b[0mfig\u001b[0m\u001b[0;34m.\u001b[0m\u001b[0mcanvas\u001b[0m\u001b[0;34m.\u001b[0m\u001b[0mdraw_idle\u001b[0m\u001b[0;34m(\u001b[0m\u001b[0;34m)\u001b[0m   \u001b[0;31m# need this if 'transparent=True' to reset colors\u001b[0m\u001b[0;34m\u001b[0m\u001b[0;34m\u001b[0m\u001b[0m\n\u001b[1;32m    861\u001b[0m     \u001b[0;32mreturn\u001b[0m \u001b[0mres\u001b[0m\u001b[0;34m\u001b[0m\u001b[0;34m\u001b[0m\u001b[0m\n",
      "\u001b[0;32m~/miniconda3/envs/cds/lib/python3.8/site-packages/matplotlib/figure.py\u001b[0m in \u001b[0;36msavefig\u001b[0;34m(self, fname, transparent, **kwargs)\u001b[0m\n\u001b[1;32m   2309\u001b[0m                 \u001b[0mpatch\u001b[0m\u001b[0;34m.\u001b[0m\u001b[0mset_edgecolor\u001b[0m\u001b[0;34m(\u001b[0m\u001b[0;34m'none'\u001b[0m\u001b[0;34m)\u001b[0m\u001b[0;34m\u001b[0m\u001b[0;34m\u001b[0m\u001b[0m\n\u001b[1;32m   2310\u001b[0m \u001b[0;34m\u001b[0m\u001b[0m\n\u001b[0;32m-> 2311\u001b[0;31m         \u001b[0mself\u001b[0m\u001b[0;34m.\u001b[0m\u001b[0mcanvas\u001b[0m\u001b[0;34m.\u001b[0m\u001b[0mprint_figure\u001b[0m\u001b[0;34m(\u001b[0m\u001b[0mfname\u001b[0m\u001b[0;34m,\u001b[0m \u001b[0;34m**\u001b[0m\u001b[0mkwargs\u001b[0m\u001b[0;34m)\u001b[0m\u001b[0;34m\u001b[0m\u001b[0;34m\u001b[0m\u001b[0m\n\u001b[0m\u001b[1;32m   2312\u001b[0m \u001b[0;34m\u001b[0m\u001b[0m\n\u001b[1;32m   2313\u001b[0m         \u001b[0;32mif\u001b[0m \u001b[0mtransparent\u001b[0m\u001b[0;34m:\u001b[0m\u001b[0;34m\u001b[0m\u001b[0;34m\u001b[0m\u001b[0m\n",
      "\u001b[0;32m~/miniconda3/envs/cds/lib/python3.8/site-packages/matplotlib/backend_bases.py\u001b[0m in \u001b[0;36mprint_figure\u001b[0;34m(self, filename, dpi, facecolor, edgecolor, orientation, format, bbox_inches, pad_inches, bbox_extra_artists, backend, **kwargs)\u001b[0m\n\u001b[1;32m   2208\u001b[0m \u001b[0;34m\u001b[0m\u001b[0m\n\u001b[1;32m   2209\u001b[0m             \u001b[0;32mtry\u001b[0m\u001b[0;34m:\u001b[0m\u001b[0;34m\u001b[0m\u001b[0;34m\u001b[0m\u001b[0m\n\u001b[0;32m-> 2210\u001b[0;31m                 result = print_method(\n\u001b[0m\u001b[1;32m   2211\u001b[0m                     \u001b[0mfilename\u001b[0m\u001b[0;34m,\u001b[0m\u001b[0;34m\u001b[0m\u001b[0;34m\u001b[0m\u001b[0m\n\u001b[1;32m   2212\u001b[0m                     \u001b[0mdpi\u001b[0m\u001b[0;34m=\u001b[0m\u001b[0mdpi\u001b[0m\u001b[0;34m,\u001b[0m\u001b[0;34m\u001b[0m\u001b[0;34m\u001b[0m\u001b[0m\n",
      "\u001b[0;32m~/miniconda3/envs/cds/lib/python3.8/site-packages/matplotlib/backend_bases.py\u001b[0m in \u001b[0;36mwrapper\u001b[0;34m(*args, **kwargs)\u001b[0m\n\u001b[1;32m   1637\u001b[0m             \u001b[0mkwargs\u001b[0m\u001b[0;34m.\u001b[0m\u001b[0mpop\u001b[0m\u001b[0;34m(\u001b[0m\u001b[0marg\u001b[0m\u001b[0;34m)\u001b[0m\u001b[0;34m\u001b[0m\u001b[0;34m\u001b[0m\u001b[0m\n\u001b[1;32m   1638\u001b[0m \u001b[0;34m\u001b[0m\u001b[0m\n\u001b[0;32m-> 1639\u001b[0;31m         \u001b[0;32mreturn\u001b[0m \u001b[0mfunc\u001b[0m\u001b[0;34m(\u001b[0m\u001b[0;34m*\u001b[0m\u001b[0margs\u001b[0m\u001b[0;34m,\u001b[0m \u001b[0;34m**\u001b[0m\u001b[0mkwargs\u001b[0m\u001b[0;34m)\u001b[0m\u001b[0;34m\u001b[0m\u001b[0;34m\u001b[0m\u001b[0m\n\u001b[0m\u001b[1;32m   1640\u001b[0m \u001b[0;34m\u001b[0m\u001b[0m\n\u001b[1;32m   1641\u001b[0m     \u001b[0;32mreturn\u001b[0m \u001b[0mwrapper\u001b[0m\u001b[0;34m\u001b[0m\u001b[0;34m\u001b[0m\u001b[0m\n",
      "\u001b[0;32m~/miniconda3/envs/cds/lib/python3.8/site-packages/matplotlib/backends/backend_agg.py\u001b[0m in \u001b[0;36mprint_png\u001b[0;34m(self, filename_or_obj, metadata, pil_kwargs, *args)\u001b[0m\n\u001b[1;32m    508\u001b[0m         \"\"\"\n\u001b[1;32m    509\u001b[0m         \u001b[0mFigureCanvasAgg\u001b[0m\u001b[0;34m.\u001b[0m\u001b[0mdraw\u001b[0m\u001b[0;34m(\u001b[0m\u001b[0mself\u001b[0m\u001b[0;34m)\u001b[0m\u001b[0;34m\u001b[0m\u001b[0;34m\u001b[0m\u001b[0m\n\u001b[0;32m--> 510\u001b[0;31m         mpl.image.imsave(\n\u001b[0m\u001b[1;32m    511\u001b[0m             \u001b[0mfilename_or_obj\u001b[0m\u001b[0;34m,\u001b[0m \u001b[0mself\u001b[0m\u001b[0;34m.\u001b[0m\u001b[0mbuffer_rgba\u001b[0m\u001b[0;34m(\u001b[0m\u001b[0;34m)\u001b[0m\u001b[0;34m,\u001b[0m \u001b[0mformat\u001b[0m\u001b[0;34m=\u001b[0m\u001b[0;34m\"png\"\u001b[0m\u001b[0;34m,\u001b[0m \u001b[0morigin\u001b[0m\u001b[0;34m=\u001b[0m\u001b[0;34m\"upper\"\u001b[0m\u001b[0;34m,\u001b[0m\u001b[0;34m\u001b[0m\u001b[0;34m\u001b[0m\u001b[0m\n\u001b[1;32m    512\u001b[0m             dpi=self.figure.dpi, metadata=metadata, pil_kwargs=pil_kwargs)\n",
      "\u001b[0;32m~/miniconda3/envs/cds/lib/python3.8/site-packages/matplotlib/image.py\u001b[0m in \u001b[0;36mimsave\u001b[0;34m(fname, arr, vmin, vmax, cmap, format, origin, dpi, metadata, pil_kwargs)\u001b[0m\n\u001b[1;32m   1603\u001b[0m         \u001b[0mpil_kwargs\u001b[0m\u001b[0;34m.\u001b[0m\u001b[0msetdefault\u001b[0m\u001b[0;34m(\u001b[0m\u001b[0;34m\"format\"\u001b[0m\u001b[0;34m,\u001b[0m \u001b[0mformat\u001b[0m\u001b[0;34m)\u001b[0m\u001b[0;34m\u001b[0m\u001b[0;34m\u001b[0m\u001b[0m\n\u001b[1;32m   1604\u001b[0m         \u001b[0mpil_kwargs\u001b[0m\u001b[0;34m.\u001b[0m\u001b[0msetdefault\u001b[0m\u001b[0;34m(\u001b[0m\u001b[0;34m\"dpi\"\u001b[0m\u001b[0;34m,\u001b[0m \u001b[0;34m(\u001b[0m\u001b[0mdpi\u001b[0m\u001b[0;34m,\u001b[0m \u001b[0mdpi\u001b[0m\u001b[0;34m)\u001b[0m\u001b[0;34m)\u001b[0m\u001b[0;34m\u001b[0m\u001b[0;34m\u001b[0m\u001b[0m\n\u001b[0;32m-> 1605\u001b[0;31m         \u001b[0mimage\u001b[0m\u001b[0;34m.\u001b[0m\u001b[0msave\u001b[0m\u001b[0;34m(\u001b[0m\u001b[0mfname\u001b[0m\u001b[0;34m,\u001b[0m \u001b[0;34m**\u001b[0m\u001b[0mpil_kwargs\u001b[0m\u001b[0;34m)\u001b[0m\u001b[0;34m\u001b[0m\u001b[0;34m\u001b[0m\u001b[0m\n\u001b[0m\u001b[1;32m   1606\u001b[0m \u001b[0;34m\u001b[0m\u001b[0m\n\u001b[1;32m   1607\u001b[0m \u001b[0;34m\u001b[0m\u001b[0m\n",
      "\u001b[0;32m~/miniconda3/envs/cds/lib/python3.8/site-packages/PIL/Image.py\u001b[0m in \u001b[0;36msave\u001b[0;34m(self, fp, format, **params)\u001b[0m\n\u001b[1;32m   2153\u001b[0m                 \u001b[0mfp\u001b[0m \u001b[0;34m=\u001b[0m \u001b[0mbuiltins\u001b[0m\u001b[0;34m.\u001b[0m\u001b[0mopen\u001b[0m\u001b[0;34m(\u001b[0m\u001b[0mfilename\u001b[0m\u001b[0;34m,\u001b[0m \u001b[0;34m\"r+b\"\u001b[0m\u001b[0;34m)\u001b[0m\u001b[0;34m\u001b[0m\u001b[0;34m\u001b[0m\u001b[0m\n\u001b[1;32m   2154\u001b[0m             \u001b[0;32melse\u001b[0m\u001b[0;34m:\u001b[0m\u001b[0;34m\u001b[0m\u001b[0;34m\u001b[0m\u001b[0m\n\u001b[0;32m-> 2155\u001b[0;31m                 \u001b[0mfp\u001b[0m \u001b[0;34m=\u001b[0m \u001b[0mbuiltins\u001b[0m\u001b[0;34m.\u001b[0m\u001b[0mopen\u001b[0m\u001b[0;34m(\u001b[0m\u001b[0mfilename\u001b[0m\u001b[0;34m,\u001b[0m \u001b[0;34m\"w+b\"\u001b[0m\u001b[0;34m)\u001b[0m\u001b[0;34m\u001b[0m\u001b[0;34m\u001b[0m\u001b[0m\n\u001b[0m\u001b[1;32m   2156\u001b[0m \u001b[0;34m\u001b[0m\u001b[0m\n\u001b[1;32m   2157\u001b[0m         \u001b[0;32mtry\u001b[0m\u001b[0;34m:\u001b[0m\u001b[0;34m\u001b[0m\u001b[0;34m\u001b[0m\u001b[0m\n",
      "\u001b[0;31mFileNotFoundError\u001b[0m: [Errno 2] No such file or directory: '/data/asoria/TRACK/500mb_composite/phase8.png'"
     ]
    },
    {
     "data": {
      "image/png": "[encoded data removed]",
      "text/plain": [
       "<Figure size 720x216 with 2 Axes>"
      ]
     },
     "metadata": {
      "needs_background": "light"
     },
     "output_type": "display_data"
    }
   ],
   "source": [
    "myvar = hgt500_gt1_grouped.sel(phase=8)\n",
    "mylat = lat\n",
    "mylon = lon\n",
    "vmin=-50\n",
    "vmax=50\n",
    "f = plt.figure(figsize=(10,3))\n",
    "ax = plt.axes(projection=ccrs.PlateCarree(central_longitude=180))\n",
    "ax.set_extent([110, 300, 5, 120], crs=ccrs.PlateCarree())\n",
    "\n",
    "ax.coastlines(linewidth=1, color='k')\n",
    "\n",
    "ax.set_title('Phase 8')\n",
    "n =20\n",
    "levels = np.linspace(vmin, vmax, n+1)\n",
    "cf = ax.contourf(mylon,mylat,myvar, transform=ccrs.PlateCarree(),levels=levels, cmap='RdBu_r')\n",
    "plt.colorbar(cf, shrink=1)\n",
    "plt.savefig('/data/asoria/TRACK/500mb_composite/phase8.png',dpi=300)"
   ]
  },
  {
   "cell_type": "code",
   "execution_count": null,
   "metadata": {},
   "outputs": [],
   "source": [
    "mylon"
   ]
  },
  {
   "cell_type": "code",
   "execution_count": null,
   "metadata": {},
   "outputs": [],
   "source": [
    "np.shape(stat_lat)"
   ]
  },
  {
   "cell_type": "code",
   "execution_count": null,
   "metadata": {},
   "outputs": [],
   "source": [
    "longitude_mesh.copy()"
   ]
  },
  {
   "cell_type": "code",
   "execution_count": 74,
   "metadata": {},
   "outputs": [
    {
     "data": {
      "text/plain": [
       "<matplotlib.collections.PathCollection at 0x7ff9c69d1c40>"
      ]
     },
     "execution_count": 74,
     "metadata": {},
     "output_type": "execute_result"
    },
    {
     "data": {
      "image/png": "[encoded data removed]",
      "text/plain": [
       "<Figure size 720x216 with 2 Axes>"
      ]
     },
     "metadata": {
      "needs_background": "light"
     },
     "output_type": "display_data"
    }
   ],
   "source": [
    "phase_num = 1\n",
    "N = len(phase_gt1[phase_gt1==phase_num])\n",
    "sample_mean = hgt500_gt1_grouped[phase_num-1,:,:]\n",
    "sample_std = hgt500_gt1_grouped_std[phase_num-1,:,:]\n",
    "population_mean = 0\n",
    "t_score = sample_mean/(sample_std/(np.sqrt(N/5-1)))\n",
    "df = N/5-1\n",
    "t_crit = stats.t.ppf(0.975,df)\n",
    "\n",
    "#myvar = hgt500_gt1_grouped[phase_num-1,:,:]\n",
    "myvar = sample_mean\n",
    "stat_lat = latitude_mesh.copy()\n",
    "stat_lon = longitude_mesh.copy()\n",
    "\n",
    "stat_lat[np.abs(t_score)<t_crit]=np.nan\n",
    "stat_lon[np.abs(t_score)<t_crit]=np.nan\n",
    "\n",
    "f = plt.figure(figsize=(10,3))\n",
    "ax = plt.axes(projection=ccrs.PlateCarree(central_longitude=180))\n",
    "ax.set_extent([110, 340, 5, 120], crs=ccrs.PlateCarree())\n",
    "\n",
    "ax.coastlines(linewidth=1, color='k')\n",
    "vmin=-50\n",
    "vmax=50\n",
    "\n",
    "n =20\n",
    "levels = np.linspace(vmin, vmax, n+1)\n",
    "cf = ax.contourf(mylon,mylat,myvar, transform=ccrs.PlateCarree(),levels=levels, cmap='RdBu_r')\n",
    "plt.colorbar(cf, shrink=1)\n",
    "ax.set_title('Phase '+ str(phase_num))\n",
    "plt.scatter(stat_lon,stat_lat, transform=ccrs.PlateCarree(), s=2, color='gray',marker='.')\n",
    "#plt.savefig('/data/asoria/TRACK/Final_figures/500mb_stipple_phase8.png',dpi=300)"
   ]
  },
  {
   "cell_type": "code",
   "execution_count": null,
   "metadata": {},
   "outputs": [],
   "source": [
    "phase_num = 2\n",
    "N = len(phase_gt1[phase_gt1==phase_num])\n",
    "sample_mean = hgt500_gt1_grouped[phase_num-1,:,:]\n",
    "sample_std = hgt500_gt1_grouped_std[phase_num-1,:,:]\n",
    "population_mean = 0\n",
    "t_score = sample_mean/(sample_std/(np.sqrt(N/5-1)))\n",
    "df = N/5-1\n",
    "t_crit = stats.t.ppf(0.975,df)\n",
    "\n",
    "#myvar = hgt500_gt1_grouped[phase_num-1,:,:]\n",
    "myvar = sample_mean\n",
    "stat_lat = latitude_mesh.copy()\n",
    "stat_lon = longitude_mesh.copy()\n",
    "\n",
    "stat_lat[np.abs(t_score)<t_crit]=np.nan\n",
    "stat_lon[np.abs(t_score)<t_crit]=np.nan\n",
    "\n",
    "f = plt.figure(figsize=(10,3))\n",
    "ax = plt.axes(projection=ccrs.PlateCarree(central_longitude=360))\n",
    "ax.set_extent([110, 360, 5, 120], crs=ccrs.PlateCarree())\n",
    "\n",
    "ax.coastlines(linewidth=1, color='k')\n",
    "vmin=-50\n",
    "vmax=50\n",
    "\n",
    "n =20\n",
    "levels = np.linspace(vmin, vmax, n+1)\n",
    "cf = ax.contourf(mylon,mylat,myvar, transform=ccrs.PlateCarree(),levels=levels, cmap='RdBu_r')\n",
    "plt.colorbar(cf, shrink=0.7)\n",
    "ax.set_title('Phase '+ str(phase_num))\n",
    "plt.scatter(stat_lon,stat_lat, s=2, color='gray',marker='.')\n",
    "#plt.savefig('/data/asoria/TRACK/500mb_composite/phase8.png',dpi=300)"
   ]
  },
  {
   "cell_type": "code",
   "execution_count": null,
   "metadata": {},
   "outputs": [],
   "source": [
    "phase_num = 3\n",
    "N = len(phase_gt1[phase_gt1==phase_num])\n",
    "sample_mean = hgt500_gt1_grouped[phase_num-1,:,:]\n",
    "sample_std = hgt500_gt1_grouped_std[phase_num-1,:,:]\n",
    "population_mean = 0\n",
    "t_score = sample_mean/(sample_std/(np.sqrt(N/5-1)))\n",
    "df = N/5-1\n",
    "t_crit = stats.t.ppf(0.975,df)\n",
    "\n",
    "#myvar = hgt500_gt1_grouped[phase_num-1,:,:]\n",
    "myvar = sample_mean\n",
    "stat_lat = latitude_mesh.copy()\n",
    "stat_lon = longitude_mesh.copy()\n",
    "\n",
    "stat_lat[np.abs(t_score)<t_crit]=np.nan\n",
    "stat_lon[np.abs(t_score)<t_crit]=np.nan\n",
    "\n",
    "f = plt.figure(figsize=(10,3))\n",
    "ax = plt.axes(projection=ccrs.PlateCarree(central_longitude=360))\n",
    "ax.set_extent([110, 360, 5, 120], crs=ccrs.PlateCarree())\n",
    "\n",
    "ax.coastlines(linewidth=1, color='k')\n",
    "vmin=-50\n",
    "vmax=50\n",
    "\n",
    "n =20\n",
    "levels = np.linspace(vmin, vmax, n+1)\n",
    "cf = ax.contourf(mylon,mylat,myvar, transform=ccrs.PlateCarree(),levels=levels, cmap='RdBu_r')\n",
    "plt.colorbar(cf, shrink=0.7)\n",
    "ax.set_title('Phase '+ str(phase_num))\n",
    "plt.scatter(stat_lon,stat_lat, s=2, color='gray',marker='.')\n",
    "#plt.savefig('/data/asoria/TRACK/500mb_composite/phase8.png',dpi=300)"
   ]
  },
  {
   "cell_type": "code",
   "execution_count": null,
   "metadata": {},
   "outputs": [],
   "source": [
    "phase_num = 4\n",
    "N = len(phase_gt1[phase_gt1==phase_num])\n",
    "sample_mean = hgt500_gt1_grouped[phase_num-1,:,:]\n",
    "sample_std = hgt500_gt1_grouped_std[phase_num-1,:,:]\n",
    "population_mean = 0\n",
    "t_score = sample_mean/(sample_std/(np.sqrt(N/5-1)))\n",
    "df = N/5-1\n",
    "t_crit = stats.t.ppf(0.975,df)\n",
    "\n",
    "#myvar = hgt500_gt1_grouped[phase_num-1,:,:]\n",
    "myvar = sample_mean\n",
    "stat_lat = latitude_mesh.copy()\n",
    "stat_lon = longitude_mesh.copy()\n",
    "\n",
    "stat_lat[np.abs(t_score)<t_crit]=np.nan\n",
    "stat_lon[np.abs(t_score)<t_crit]=np.nan\n",
    "\n",
    "f = plt.figure(figsize=(10,3))\n",
    "ax = plt.axes(projection=ccrs.PlateCarree(central_longitude=360))\n",
    "ax.set_extent([110, 360, 5, 120], crs=ccrs.PlateCarree())\n",
    "\n",
    "ax.coastlines(linewidth=1, color='k')\n",
    "vmin=-50\n",
    "vmax=50\n",
    "\n",
    "n =20\n",
    "levels = np.linspace(vmin, vmax, n+1)\n",
    "cf = ax.contourf(mylon,mylat,myvar, transform=ccrs.PlateCarree(),levels=levels, cmap='RdBu_r')\n",
    "plt.colorbar(cf, shrink=0.7)\n",
    "ax.set_title('Phase '+ str(phase_num))\n",
    "plt.scatter(stat_lon,stat_lat, s=2, color='gray',marker='.')\n",
    "#plt.savefig('/data/asoria/TRACK/500mb_composite/phase8.png',dpi=300)"
   ]
  },
  {
   "cell_type": "code",
   "execution_count": null,
   "metadata": {},
   "outputs": [],
   "source": [
    "phase_num = 5\n",
    "N = len(phase_gt1[phase_gt1==phase_num])\n",
    "sample_mean = hgt500_gt1_grouped[phase_num-1,:,:]\n",
    "sample_std = hgt500_gt1_grouped_std[phase_num-1,:,:]\n",
    "population_mean = 0\n",
    "t_score = sample_mean/(sample_std/(np.sqrt(N/5-1)))\n",
    "df = N/5-1\n",
    "t_crit = stats.t.ppf(0.975,df)\n",
    "\n",
    "#myvar = hgt500_gt1_grouped[phase_num-1,:,:]\n",
    "myvar = sample_mean\n",
    "stat_lat = latitude_mesh.copy()\n",
    "stat_lon = longitude_mesh.copy()\n",
    "\n",
    "stat_lat[np.abs(t_score)<t_crit]=np.nan\n",
    "stat_lon[np.abs(t_score)<t_crit]=np.nan\n",
    "\n",
    "f = plt.figure(figsize=(10,3))\n",
    "ax = plt.axes(projection=ccrs.PlateCarree(central_longitude=360))\n",
    "ax.set_extent([110, 360, 5, 120], crs=ccrs.PlateCarree())\n",
    "\n",
    "ax.coastlines(linewidth=1, color='k')\n",
    "vmin=-50\n",
    "vmax=50\n",
    "\n",
    "n =20\n",
    "levels = np.linspace(vmin, vmax, n+1)\n",
    "cf = ax.contourf(mylon,mylat,myvar, transform=ccrs.PlateCarree(),levels=levels, cmap='RdBu_r')\n",
    "plt.colorbar(cf, shrink=0.7)\n",
    "ax.set_title('Phase '+ str(phase_num))\n",
    "plt.scatter(stat_lon,stat_lat, s=2, color='gray',marker='.')\n",
    "#plt.savefig('/data/asoria/TRACK/500mb_composite/phase8.png',dpi=300)"
   ]
  },
  {
   "cell_type": "code",
   "execution_count": null,
   "metadata": {},
   "outputs": [],
   "source": [
    "phase_num = 6\n",
    "N = len(phase_gt1[phase_gt1==phase_num])\n",
    "sample_mean = hgt500_gt1_grouped[phase_num-1,:,:]\n",
    "sample_std = hgt500_gt1_grouped_std[phase_num-1,:,:]\n",
    "population_mean = 0\n",
    "t_score = sample_mean/(sample_std/(np.sqrt(N/5-1)))\n",
    "df = N/5-1\n",
    "t_crit = stats.t.ppf(0.975,df)\n",
    "\n",
    "#myvar = hgt500_gt1_grouped[phase_num-1,:,:]\n",
    "myvar = sample_mean\n",
    "stat_lat = latitude_mesh.copy()\n",
    "stat_lon = longitude_mesh.copy()\n",
    "\n",
    "stat_lat[np.abs(t_score)<t_crit]=np.nan\n",
    "stat_lon[np.abs(t_score)<t_crit]=np.nan\n",
    "\n",
    "f = plt.figure(figsize=(10,3))\n",
    "ax = plt.axes(projection=ccrs.PlateCarree(central_longitude=360))\n",
    "ax.set_extent([110, 360, 5, 120], crs=ccrs.PlateCarree())\n",
    "\n",
    "ax.coastlines(linewidth=1, color='k')\n",
    "vmin=-50\n",
    "vmax=50\n",
    "\n",
    "n =20\n",
    "levels = np.linspace(vmin, vmax, n+1)\n",
    "cf = ax.contourf(mylon,mylat,myvar, transform=ccrs.PlateCarree(),levels=levels, cmap='RdBu_r')\n",
    "plt.colorbar(cf, shrink=0.7)\n",
    "ax.set_title('Phase '+ str(phase_num))\n",
    "plt.scatter(stat_lon,stat_lat, s=2, color='gray',marker='.')\n",
    "#plt.savefig('/data/asoria/TRACK/500mb_composite/phase8.png',dpi=300)"
   ]
  },
  {
   "cell_type": "code",
   "execution_count": null,
   "metadata": {},
   "outputs": [],
   "source": [
    "phase_num = 7\n",
    "N = len(phase_gt1[phase_gt1==phase_num])\n",
    "sample_mean = hgt500_gt1_grouped[phase_num-1,:,:]\n",
    "sample_std = hgt500_gt1_grouped_std[phase_num-1,:,:]\n",
    "population_mean = 0\n",
    "t_score = sample_mean/(sample_std/(np.sqrt(N/5-1)))\n",
    "df = N/5-1\n",
    "t_crit = stats.t.ppf(0.975,df)\n",
    "\n",
    "#myvar = hgt500_gt1_grouped[phase_num-1,:,:]\n",
    "myvar = sample_mean\n",
    "stat_lat = latitude_mesh.copy()\n",
    "stat_lon = longitude_mesh.copy()\n",
    "\n",
    "stat_lat[np.abs(t_score)<t_crit]=np.nan\n",
    "stat_lon[np.abs(t_score)<t_crit]=np.nan\n",
    "\n",
    "f = plt.figure(figsize=(10,3))\n",
    "ax = plt.axes(projection=ccrs.PlateCarree(central_longitude=360))\n",
    "ax.set_extent([110, 360, 5, 120], crs=ccrs.PlateCarree())\n",
    "\n",
    "ax.coastlines(linewidth=1, color='k')\n",
    "vmin=-50\n",
    "vmax=50\n",
    "\n",
    "n =20\n",
    "levels = np.linspace(vmin, vmax, n+1)\n",
    "cf = ax.contourf(mylon,mylat,myvar, transform=ccrs.PlateCarree(),levels=levels, cmap='RdBu_r')\n",
    "plt.colorbar(cf, shrink=0.7)\n",
    "ax.set_title('Phase '+ str(phase_num))\n",
    "plt.scatter(stat_lon,stat_lat, s=2, color='gray',marker='.')\n",
    "#plt.savefig('/data/asoria/TRACK/500mb_composite/phase8.png',dpi=300)"
   ]
  },
  {
   "cell_type": "code",
   "execution_count": null,
   "metadata": {},
   "outputs": [],
   "source": [
    "phase_num = 8\n",
    "N = len(phase_gt1[phase_gt1==phase_num])\n",
    "sample_mean = hgt500_gt1_grouped[phase_num-1,:,:]\n",
    "sample_std = hgt500_gt1_grouped_std[phase_num-1,:,:]\n",
    "population_mean = 0\n",
    "t_score = sample_mean/(sample_std/(np.sqrt(N/5-1)))\n",
    "df = N/5-1\n",
    "t_crit = stats.t.ppf(0.975,df)\n",
    "\n",
    "#myvar = hgt500_gt1_grouped[phase_num-1,:,:]\n",
    "myvar = sample_mean\n",
    "stat_lat = latitude_mesh.copy()\n",
    "stat_lon = longitude_mesh.copy()\n",
    "\n",
    "stat_lat[np.abs(t_score)<t_crit]=np.nan\n",
    "stat_lon[np.abs(t_score)<t_crit]=np.nan\n",
    "\n",
    "f = plt.figure(figsize=(10,3))\n",
    "ax = plt.axes(projection=ccrs.PlateCarree(central_longitude=360))\n",
    "ax.set_extent([110, 360, 5, 120], crs=ccrs.PlateCarree())\n",
    "\n",
    "ax.coastlines(linewidth=1, color='k')\n",
    "vmin=-50\n",
    "vmax=50\n",
    "\n",
    "n =20\n",
    "levels = np.linspace(vmin, vmax, n+1)\n",
    "cf = ax.contourf(mylon,mylat,myvar, transform=ccrs.PlateCarree(),levels=levels, cmap='RdBu_r')\n",
    "plt.colorbar(cf, shrink=0.7)\n",
    "ax.set_title('Phase '+ str(phase_num))\n",
    "plt.scatter(stat_lon,stat_lat, s=2, color='gray',marker='.')\n",
    "#plt.savefig('/data/asoria/TRACK/500mb_composite/phase8.png',dpi=300)"
   ]
  },
  {
   "cell_type": "code",
   "execution_count": null,
   "metadata": {},
   "outputs": [],
   "source": []
  },
  {
   "cell_type": "code",
   "execution_count": null,
   "metadata": {},
   "outputs": [],
   "source": []
  }
 ],
 "metadata": {
  "kernelspec": {
   "display_name": "Python 3",
   "language": "python",
   "name": "python3"
  },
  "language_info": {
   "codemirror_mode": {
    "name": "ipython",
    "version": 3
   },
   "file_extension": ".py",
   "mimetype": "text/x-python",
   "name": "python",
   "nbconvert_exporter": "python",
   "pygments_lexer": "ipython3",
   "version": "3.8.2"
  }
 },
 "nbformat": 4,
 "nbformat_minor": 4
}
